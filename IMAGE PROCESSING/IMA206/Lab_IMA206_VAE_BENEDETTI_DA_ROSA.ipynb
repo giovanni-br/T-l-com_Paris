{
  "cells": [
    {
      "cell_type": "markdown",
      "metadata": {
        "id": "TdpPHz2Lp6VD"
      },
      "source": [
        "# IMA 206 - Coding autoencoders in Pytorch\n",
        "\n",
        "# Giovanni BENEDETTI DA ROSA\n",
        "\n",
        "The lab was originally created by Alasdair Newson (https://sites.google.com/site/alasdairnewson/)\n",
        "\n",
        "The current version is made by Loic Le Folgoc. If you have questions, please contact me at loic dot lefolgoc at telecom-paris dot fr.\n",
        "\n",
        "## Objective:\n",
        "\n",
        "The goal of this TP is to explore autoencoders and variational autoencoders applied to a simple dataset. In this first part, we will look at an autoencoder applied to MNIST. We recall that an autoencoder is a neural network with the following general architecture:\n",
        "\n",
        "\n",
        "![AUTOENCODER](https://drive.google.com/uc?id=11dfNujSHa2-_eThp2aTpL1M_hLaEQX-G)\n",
        "\n",
        "\n",
        "The tensor $z$ in the middle of the network is called a __latent code__, and it belongs to the latent space. It is this latent space which is interesting in autoencoders (for image synthesis, editing, etc).\n",
        "\n",
        "## Your task:\n",
        "You need to add the missing parts in the code (parts between # --- START CODE HERE and # --- END CODE HERE or # FILL IN CODE or ...)"
      ]
    },
    {
      "cell_type": "markdown",
      "metadata": {
        "id": "gp13aVUQq1WX"
      },
      "source": [
        "First of all, let's load some packages:"
      ]
    },
    {
      "cell_type": "code",
      "execution_count": 83,
      "metadata": {
        "id": "JqNeIJ8Op8Ao"
      },
      "outputs": [],
      "source": [
        "import torch\n",
        "import torch.nn as nn\n",
        "import torch.nn.functional as F\n",
        "import torch.optim as optim\n",
        "from torchvision import datasets, transforms\n",
        "from torch.autograd import Variable\n",
        "from torchvision.utils import save_image\n",
        "\n",
        "import pdb\n",
        "import numpy as np\n",
        "import matplotlib.pyplot as plt"
      ]
    },
    {
      "cell_type": "code",
      "execution_count": 84,
      "metadata": {
        "id": "U6NKzRPlDKZp"
      },
      "outputs": [],
      "source": [
        "from tqdm import tqdm"
      ]
    },
    {
      "cell_type": "markdown",
      "metadata": {
        "id": "Hyj5dj_eui9D"
      },
      "source": [
        "First, we load the mnist dataset. I find that training on the full training dataset `mnist_trainset` is fast enough even on CPU (5-10 minutes), but should you need it, we create a reduced trainset below.\n",
        "\n",
        "Feel free to train on `mnist_trainset_reduced` instead if you prefer (results might be of poorer quality). To do so, replace the argument `mnist_trainset` in the `torch.utils.data.DataLoader(...)` call creating `mnist_train_loader` in the cell below by `mnist_trainset_reduced` (and same for `mnist_testset` and `mnist_testset_reduced`)."
      ]
    },
    {
      "cell_type": "code",
      "execution_count": 85,
      "metadata": {
        "id": "4YPLKlPrufSk"
      },
      "outputs": [],
      "source": [
        "batch_size = 64\n",
        "\n",
        "# MNIST Dataset\n",
        "mnist_trainset = datasets.MNIST(root='./mnist_data/', train=True, transform=transforms.ToTensor(), download=True)\n",
        "mnist_testset = datasets.MNIST(root='./mnist_data/', train=False, transform=transforms.ToTensor(), download=False)\n",
        "\n",
        "#create data loader with smaller dataset size\n",
        "max_mnist_size = 5000\n",
        "mnist_trainset_reduced = torch.utils.data.random_split(mnist_trainset, [max_mnist_size, len(mnist_trainset)-max_mnist_size])[0]\n",
        "mnist_train_loader = torch.utils.data.DataLoader(mnist_trainset, batch_size=batch_size, shuffle=True, drop_last=False)\n",
        "\n",
        "# download test dataset\n",
        "max_mnist_size = 1000\n",
        "mnist_testset_reduced = torch.utils.data.random_split(mnist_testset, [max_mnist_size, len(mnist_testset)-max_mnist_size])[0]\n",
        "mnist_test_loader = torch.utils.data.DataLoader(mnist_testset, batch_size=batch_size, shuffle=False, drop_last=False)\n"
      ]
    },
    {
      "cell_type": "code",
      "execution_count": 86,
      "metadata": {
        "colab": {
          "base_uri": "https://localhost:8080/"
        },
        "id": "r7YhlBT2PN9I",
        "outputId": "21e324b5-d969-4b6a-8aca-e93486fd9073"
      },
      "outputs": [
        {
          "output_type": "execute_result",
          "data": {
            "text/plain": [
              "torch.Size([60000, 28, 28])"
            ]
          },
          "metadata": {},
          "execution_count": 86
        }
      ],
      "source": [
        "mnist_trainset.data.shape"
      ]
    },
    {
      "cell_type": "markdown",
      "metadata": {
        "id": "t-bkK4ktwfvC"
      },
      "source": [
        "# 1. Vanilla Autoencoder\n",
        "\n",
        "Now, we define our autoencoder model. The autoencoder class `AEModel` is made of an `Encoder` and a `Decoder`, which we create first. We will reuse the `Encoder` and `Decoder` classes when building our variational autoencoder model, and wrap them in a `VAEModel` instead."
      ]
    },
    {
      "cell_type": "markdown",
      "metadata": {
        "id": "6jLa2-jQwxSI"
      },
      "source": [
        "We will use the following convolutional architectures :\n",
        "\n",
        "__Encoder__ :\n",
        "- Conv layer, 32 filters, 4x4 kernel, stride=2, padding=1; + ReLU\n",
        "- Conv layer, 32 filters, 4x4 kernel, stride=2, padding=0; + ReLU\n",
        "- Conv layer, 32 filters, 4x4 kernel, stride=2, padding=0; + ReLU\n",
        "- Flatten\n",
        "- Dense layer with 64 output neurons; + ReLU\n",
        "- Dense layer with `self.latent_dim*self.multiplier` output neurons.\n",
        "\n",
        "For the autoencoder, `self.multiplier=1` as the encoder outputs a `self.latent_dim`-dimensional latent code. For the variational autoencoder, we will set `self.multiplier=2` as the encoder will output `self.latent_dim`-dimensional mean and log-variance parameters of the Gaussian distribution $q_\\phi(z|x)$.\n",
        "\n",
        "__Decoder__ (the decoder of the AE and VAE are the same, they always outputs an image/probability map, given a code $z$ as input):\n",
        "- Dense layer with 64 output neurons; + ReLU\n",
        "- Dense layer with ??? output neurons; + ReLU\n",
        "- Reshape, to a `(C, H, W)` tensor with `C=32`, `H=???`, `W=???`.\n",
        "- Conv transpose layer, 32 filters, 4x4 kernel, stride=2, padding=0; +ReLU\n",
        "- Conv transpose layer, 32 filters, 4x4 kernel, stride=2, padding=0; +ReLU\n",
        "- Conv transpose layer, 1 filter, 4x4 kernel, stride=2, padding=1; +Sigmoid\n",
        "\n",
        "The number of output neurons of the second dense layer is exactly the number of input neurons in the first dense layer of the encoder (i.e., the number of values in the feature maps of the conv layer immediately before it).\n",
        "\n",
        "For the reshape operations, use the ```A.view(dim_1,dim_2,...)``` function, where ```A``` is your tensor."
      ]
    },
    {
      "cell_type": "markdown",
      "metadata": {
        "id": "eNH7ScylwKa-"
      },
      "source": [
        "__Hint for computing the number of neurons that are not given to you__: This [great resource](https://madebyollin.github.io/convnet-calculator/) lets you compute the size of the output tensor following any convolution layer depending on the input tensor shape and conv parameters."
      ]
    },
    {
      "cell_type": "code",
      "execution_count": 87,
      "metadata": {
        "id": "0-IyPUQkIR-U"
      },
      "outputs": [],
      "source": [
        "class Encoder(torch.nn.Module):\n",
        "    def __init__(self, latent_dim=10, multiplier=1):\n",
        "        super(Encoder, self).__init__()\n",
        "\n",
        "        self.reshape = (32,2,2)\n",
        "\n",
        "        # Layer parameters\n",
        "        self.latent_dim = latent_dim\n",
        "        self.multiplier = multiplier\n",
        "\n",
        "        # Convolutional layers\n",
        "        self.conv1 = nn.Conv2d(in_channels=1, out_channels=32, kernel_size=4, stride=2, padding=1)\n",
        "        self.conv2 = nn.Conv2d(in_channels=32, out_channels=32, kernel_size=4, stride=2, padding=0)\n",
        "        self.conv3 = nn.Conv2d(in_channels=32, out_channels=32, kernel_size=4, stride=2, padding=0)\n",
        "\n",
        "        # Fully connected layers\n",
        "        flatten_size = self.reshape[0] * self.reshape[1] * self.reshape[2]\n",
        "        self.lin1 = nn.Linear(flatten_size, 64)\n",
        "        self.lin2 = nn.Linear(64, self.latent_dim * self.multiplier)\n",
        "\n",
        "    def forward(self, x):\n",
        "        '''\n",
        "        Pass the input image mini-batch through conv, linear layers and\n",
        "        non-linearities to output a (B,D,2) tensor where B is the mini-batch\n",
        "        size and D the latent dimension.\n",
        "        '''\n",
        "        batch_size = x.size(0)\n",
        "\n",
        "        # Convolutional layers with ReLu activations\n",
        "        x = F.relu(self.conv1(x))\n",
        "        x = F.relu(self.conv2(x))\n",
        "        x = F.relu(self.conv3(x))\n",
        "\n",
        "        # Flatten\n",
        "        x = x.view(batch_size, -1)\n",
        "\n",
        "        # Fully connected layer with ReLu activation\n",
        "        x = F.relu(self.lin1(x))\n",
        "\n",
        "        # Fully connected layer for code z, or mean and log-variance\n",
        "        x = self.lin2(x)\n",
        "\n",
        "        # The shape of the output tensor should be (B,D) if multiplier=1,\n",
        "        # where B is the batch size, and D the latent dimension.\n",
        "        # Otherwise it should be (B,D,multiplier)\n",
        "        if self.multiplier == 1:\n",
        "          return x\n",
        "        else:\n",
        "          return x.view(batch_size, self.latent_dim, self.multiplier)"
      ]
    },
    {
      "cell_type": "code",
      "execution_count": 88,
      "metadata": {
        "id": "U64AqYvpYpr6"
      },
      "outputs": [],
      "source": [
        "class Decoder(nn.Module):\n",
        "\n",
        "    def __init__(self, latent_dim=10):\n",
        "        super(Decoder, self).__init__()\n",
        "\n",
        "        # Shape required to start transpose convs (copy paste from the encoder)\n",
        "        self.reshape = (32, 2, 2)\n",
        "\n",
        "        # Fully connected layers\n",
        "        flatten_size = self.reshape[0] * self.reshape[1] * self.reshape[2]\n",
        "        self.lin1 = nn.Linear(latent_dim, 64)\n",
        "        self.lin2 = nn.Linear(64, flatten_size)\n",
        "\n",
        "        # Convolutional layers\n",
        "        self.convT1 = nn.ConvTranspose2d(in_channels=32, out_channels=32, kernel_size=4, stride=2, padding=0)\n",
        "        self.convT2 = nn.ConvTranspose2d(in_channels=32, out_channels=32, kernel_size=4, stride=2, padding=0)\n",
        "        self.convT3 = nn.ConvTranspose2d(in_channels=32, out_channels=1, kernel_size=4, stride=2, padding=1)\n",
        "\n",
        "\n",
        "    def forward(self, z):\n",
        "\n",
        "      batch_size = z.size(0)\n",
        "\n",
        "      # Fully connected layers with ReLU activations\n",
        "      z = F.relu(self.lin1(z))\n",
        "      z = F.relu(self.lin2(z))\n",
        "\n",
        "      # Reshape\n",
        "      z = z.view(batch_size, *self.reshape)\n",
        "\n",
        "      # Convolutional layers with ReLU activations\n",
        "      z = F.relu(self.convT1(z))\n",
        "      z = F.relu(self.convT2(z))\n",
        "\n",
        "      # Final conv layer with sigmoid activation\n",
        "      z = torch.sigmoid(self.convT3(z))\n",
        "\n",
        "      return z"
      ]
    },
    {
      "cell_type": "markdown",
      "metadata": {
        "id": "JmGyzVp4HVRJ"
      },
      "source": [
        "The autoencoder model itself is basically a wrapper around an `Encoder` and a `Decoder`. In the forward pass, the input images contained in the tensor `x` are passed through the `Encoder` to obtain the latent codes `z` then these codes are fed to the `Decoder` to produce the reconstructions `y`."
      ]
    },
    {
      "cell_type": "code",
      "execution_count": 89,
      "metadata": {
        "id": "T9MYicH9Zf3o"
      },
      "outputs": [],
      "source": [
        "class AEModel(nn.Module):\n",
        "    def __init__(self, latent_dim):\n",
        "        \"\"\"\n",
        "        Class which defines model and forward pass.\n",
        "\n",
        "        Parameters\n",
        "        ----------\n",
        "        latent_dim : int\n",
        "            Dimensionality of latent code.\n",
        "        \"\"\"\n",
        "        super(AEModel, self).__init__()\n",
        "\n",
        "        self.latent_dim = latent_dim\n",
        "        self.encoder = Encoder(latent_dim=latent_dim)\n",
        "        self.decoder = Decoder(latent_dim=latent_dim)\n",
        "\n",
        "    def forward(self, x, mode='sample'):\n",
        "        \"\"\"\n",
        "        Forward pass of model, used for training or reconstruction.\n",
        "\n",
        "        Parameters\n",
        "        ----------\n",
        "        x : torch.Tensor\n",
        "            Batch of data. Shape (batch_size, n_chan, height, width)\n",
        "\n",
        "        Outputs a dictionary containing:\n",
        "          codes - the latent codes corresponding to the input images\n",
        "          reconstructions - the images reconstructed by the autoencoder\n",
        "        \"\"\"\n",
        "\n",
        "        # z is the output of the encoder\n",
        "        z = self.encoder(x)\n",
        "\n",
        "        # Decode the samples to image space\n",
        "        y = self.decoder(z)\n",
        "\n",
        "        # Return everything:\n",
        "        return {\n",
        "            'reconstructions': y,\n",
        "            'codes': z\n",
        "            }\n"
      ]
    },
    {
      "cell_type": "markdown",
      "metadata": {
        "id": "VeWePstgIVBw"
      },
      "source": [
        "Next, we carefully create the reconstruction loss. It will be reused for the VAE loss later on."
      ]
    },
    {
      "cell_type": "markdown",
      "metadata": {
        "id": "3FIb4BDrInYy"
      },
      "source": [
        "The reconstruction loss translates a pixel-wise Bernoulli probabilistic model into a loss (`F.binary_cross_entropy`). It takes input images `data` and reconstructed probability maps `reconstructions` and computes the binary cross-entropy, from the two images."
      ]
    },
    {
      "cell_type": "code",
      "execution_count": 90,
      "metadata": {
        "id": "CWrQbhOnbv7y"
      },
      "outputs": [],
      "source": [
        "def reconstruction_loss(reconstructions, data):\n",
        "    \"\"\"\n",
        "    Calculates the reconstruction loss for a batch of data. I.e. negative\n",
        "    log likelihood.\n",
        "\n",
        "    Parameters\n",
        "    ----------\n",
        "    data : torch.Tensor\n",
        "        Input data (e.g. batch of images). Shape : (batch_size, 1,\n",
        "        height, width).\n",
        "\n",
        "    reconstructions : torch.Tensor\n",
        "        Reconstructed data. Shape : (batch_size, 1, height, width).\n",
        "\n",
        "    Returns\n",
        "    -------\n",
        "    loss : torch.Tensor\n",
        "        Binary cross entropy, AVERAGED over images in the batch but SUMMED over\n",
        "        pixel and channel.\n",
        "    \"\"\"\n",
        "    batch_size, n_chan, height, width = reconstructions.size()\n",
        "\n",
        "    # Flatten reconstructions and data for computing BCE loss\n",
        "    #reconstructions_flat = reconstructions.view(batch_size, -1)\n",
        "    #data_flat = data.view(batch_size, -1)\n",
        "\n",
        "    # Compute binary cross-entropy loss\n",
        "    loss = F.binary_cross_entropy(reconstructions, data, reduction='sum')\n",
        "\n",
        "    # Average the loss over the batch\n",
        "    loss /= batch_size\n",
        "\n",
        "    return loss"
      ]
    },
    {
      "cell_type": "markdown",
      "metadata": {
        "id": "iqibefFRJHy_"
      },
      "source": [
        "### Training the vanilla autoencoder"
      ]
    },
    {
      "cell_type": "markdown",
      "metadata": {
        "id": "RQbHTXMLJODw"
      },
      "source": [
        "The training proceeds as usual. We instantiate a model, move it to the correct device, create an optimizer and write the training loop."
      ]
    },
    {
      "cell_type": "code",
      "execution_count": 91,
      "metadata": {
        "id": "NyZcTZP3a_kc"
      },
      "outputs": [],
      "source": [
        "# Parameters\n",
        "latent_dim = 10\n",
        "\n",
        "learning_rate = 1e-3\n",
        "n_epoch = 5 # if running on GPU you can use more epochs (10 or more)"
      ]
    },
    {
      "cell_type": "code",
      "execution_count": 92,
      "metadata": {
        "colab": {
          "base_uri": "https://localhost:8080/"
        },
        "id": "ft_3txj0bZjO",
        "outputId": "4a49d778-62d9-43e6-843d-63df3992a76f"
      },
      "outputs": [
        {
          "output_type": "stream",
          "name": "stdout",
          "text": [
            "cpu\n"
          ]
        }
      ],
      "source": [
        "device = torch.device(\"cuda:0\" if torch.cuda.is_available() else \"cpu\")\n",
        "print(device)"
      ]
    },
    {
      "cell_type": "code",
      "execution_count": 93,
      "metadata": {
        "id": "oV40vRMQRoG1"
      },
      "outputs": [],
      "source": [
        "# Model\n",
        "ae_model = AEModel(latent_dim=latent_dim)\n",
        "ae_model = ae_model.to(device)"
      ]
    },
    {
      "cell_type": "code",
      "execution_count": 94,
      "metadata": {
        "id": "sbnKjRTDaynz"
      },
      "outputs": [],
      "source": [
        "# Use the AdamW optimizer, set the correct learning rate and weight_decay to 1e-4\n",
        "weight_decay = 1e-4\n",
        "\n",
        "# Instantiate AdamW optimizer\n",
        "optimizer = torch.optim.AdamW(ae_model.parameters(), lr=learning_rate, weight_decay=weight_decay)"
      ]
    },
    {
      "cell_type": "code",
      "execution_count": 95,
      "metadata": {
        "colab": {
          "base_uri": "https://localhost:8080/"
        },
        "id": "S2-phJydcICh",
        "outputId": "bdb890b4-77c8-42af-8c7f-b1494e6678f2"
      },
      "outputs": [
        {
          "output_type": "stream",
          "name": "stderr",
          "text": [
            "Epoch 0: 100%|██████████| 938/938 [01:07<00:00, 13.89batch/s, loss=115]\n"
          ]
        },
        {
          "output_type": "stream",
          "name": "stdout",
          "text": [
            "Epoch 0: Train Loss: 173.5432\n"
          ]
        },
        {
          "output_type": "stream",
          "name": "stderr",
          "text": [
            "Epoch 1: 100%|██████████| 938/938 [00:59<00:00, 15.89batch/s, loss=98.4]\n"
          ]
        },
        {
          "output_type": "stream",
          "name": "stdout",
          "text": [
            "Epoch 1: Train Loss: 105.0432\n"
          ]
        },
        {
          "output_type": "stream",
          "name": "stderr",
          "text": [
            "Epoch 2: 100%|██████████| 938/938 [01:01<00:00, 15.20batch/s, loss=87.1]\n"
          ]
        },
        {
          "output_type": "stream",
          "name": "stdout",
          "text": [
            "Epoch 2: Train Loss: 93.8480\n"
          ]
        },
        {
          "output_type": "stream",
          "name": "stderr",
          "text": [
            "Epoch 3: 100%|██████████| 938/938 [01:01<00:00, 15.35batch/s, loss=91.9]\n"
          ]
        },
        {
          "output_type": "stream",
          "name": "stdout",
          "text": [
            "Epoch 3: Train Loss: 90.1886\n"
          ]
        },
        {
          "output_type": "stream",
          "name": "stderr",
          "text": [
            "Epoch 4: 100%|██████████| 938/938 [01:00<00:00, 15.45batch/s, loss=80.8]"
          ]
        },
        {
          "output_type": "stream",
          "name": "stdout",
          "text": [
            "Epoch 4: Train Loss: 88.1219\n"
          ]
        },
        {
          "output_type": "stream",
          "name": "stderr",
          "text": [
            "\n"
          ]
        }
      ],
      "source": [
        "ae_model.train()\n",
        "\n",
        "for epoch in range(n_epoch):\n",
        "    train_loss = 0.0\n",
        "\n",
        "    with tqdm(mnist_train_loader, unit=\"batch\") as tepoch:\n",
        "        for data, labels in tepoch:\n",
        "            tepoch.set_description(f\"Epoch {epoch}\")\n",
        "\n",
        "            # Put data on correct device, GPU or CPU\n",
        "            data = data.to(device)\n",
        "\n",
        "            # Zero the gradients\n",
        "            optimizer.zero_grad()\n",
        "\n",
        "            # Forward pass\n",
        "            predict = ae_model(data)\n",
        "            reconstructions = predict['reconstructions']\n",
        "\n",
        "            # Compute the AE loss\n",
        "            loss = reconstruction_loss(reconstructions, data)\n",
        "\n",
        "            # Backpropagation\n",
        "            loss.backward()\n",
        "\n",
        "            # Optimize\n",
        "            optimizer.step()\n",
        "\n",
        "            # Aggregate the training loss for display at the end of the epoch\n",
        "            train_loss += loss.item()\n",
        "\n",
        "            # tqdm bar displays the loss\n",
        "            tepoch.set_postfix(loss=loss.item())\n",
        "\n",
        "    print('Epoch {}: Train Loss: {:.4f}'.format(epoch, train_loss/len(mnist_train_loader)))\n"
      ]
    },
    {
      "cell_type": "markdown",
      "metadata": {
        "id": "iHscBN4KJ2Sq"
      },
      "source": [
        "### Testing the vanilla autoencoder"
      ]
    },
    {
      "cell_type": "markdown",
      "metadata": {
        "id": "w3EbmswSzJdK"
      },
      "source": [
        "We define functions for qualitative testing of the autoencoder model. We will reuse them throughout the lab."
      ]
    },
    {
      "cell_type": "code",
      "execution_count": 96,
      "metadata": {
        "id": "T8jXjdRyzMy2"
      },
      "outputs": [],
      "source": [
        "def display_images(imgs):\n",
        "  '''\n",
        "  Display a batch of images (typically synthetic/generated images)\n",
        "  '''\n",
        "  r = 1\n",
        "  c = imgs.shape[0]\n",
        "  fig, axs = plt.subplots(r, c)\n",
        "  for j in range(c):\n",
        "    # black and white images\n",
        "    axs[j].imshow(imgs[j, 0,:,:].detach().cpu().numpy(), cmap='gray')\n",
        "    axs[j].axis('off')\n",
        "  plt.show()\n",
        "\n",
        "def display_ae_images(ae_model, test_imgs):\n",
        "  '''\n",
        "  Display a batch of input images along with their reconstructions by a given model\n",
        "    First row: input images\n",
        "    Second row: reconstructed images\n",
        "  '''\n",
        "  n_images = 5\n",
        "  idx = np.random.randint(0, test_imgs.shape[0], n_images)\n",
        "  test_imgs = test_imgs[idx,:,:,:]\n",
        "\n",
        "  # get output images\n",
        "  output_imgs = ae_model(test_imgs.to(ae_model.encoder.conv1.weight.device))['reconstructions']\n",
        "  output_imgs = output_imgs.detach().cpu().numpy()\n",
        "\n",
        "  r = 2\n",
        "  c = n_images\n",
        "  fig, axs = plt.subplots(r, c)\n",
        "  for j in range(c):\n",
        "    axs[0,j].imshow(test_imgs[j, 0,:,:], cmap='gray')\n",
        "    axs[0,j].axis('off')\n",
        "    axs[1,j].imshow(output_imgs[j, 0,:,:], cmap='gray')\n",
        "    axs[1,j].axis('off')\n",
        "  plt.show()"
      ]
    },
    {
      "cell_type": "markdown",
      "metadata": {
        "id": "TQiEplCiKnlT"
      },
      "source": [
        "Let's see how well the autoencoder reconstructs images from the training set:"
      ]
    },
    {
      "cell_type": "code",
      "execution_count": 97,
      "metadata": {
        "id": "9pbXch29d68D",
        "colab": {
          "base_uri": "https://localhost:8080/",
          "height": 324
        },
        "outputId": "2b2a266e-ce20-4322-8a7f-8183fe11854a"
      },
      "outputs": [
        {
          "output_type": "display_data",
          "data": {
            "text/plain": [
              "<Figure size 640x480 with 10 Axes>"
            ],
            "image/png": "[encoded data removed]"
          },
          "metadata": {}
        }
      ],
      "source": [
        "# reconstructing training images\n",
        "train_imgs = next(iter(mnist_train_loader))[0]\n",
        "display_ae_images(ae_model, train_imgs)"
      ]
    },
    {
      "cell_type": "markdown",
      "metadata": {
        "id": "h3XxWKjGKtoA"
      },
      "source": [
        "What about images from the test set?"
      ]
    },
    {
      "cell_type": "code",
      "execution_count": 98,
      "metadata": {
        "id": "ExMLThLofLn2",
        "colab": {
          "base_uri": "https://localhost:8080/",
          "height": 324
        },
        "outputId": "acbcbd16-4b45-4493-d5bf-5114f3798b19"
      },
      "outputs": [
        {
          "output_type": "display_data",
          "data": {
            "text/plain": [
              "<Figure size 640x480 with 10 Axes>"
            ],
            "image/png": "[encoded data removed]"
          },
          "metadata": {}
        }
      ],
      "source": [
        "# reconstructing test images\n",
        "test_imgs = next(iter(mnist_test_loader))[0]\n",
        "display_ae_images(ae_model, test_imgs)"
      ]
    },
    {
      "cell_type": "markdown",
      "metadata": {
        "id": "icWAOpmWKwid"
      },
      "source": [
        "There is not too much overfitting at work here apparently. We can quantify this by computing the reconstruction loss over the test dataset (below) and comparing it to the reconstruction loss over the training dataset at the end of training (check the training cell above)."
      ]
    },
    {
      "cell_type": "code",
      "execution_count": 99,
      "metadata": {
        "id": "HbyzjCqUjHQU",
        "colab": {
          "base_uri": "https://localhost:8080/"
        },
        "outputId": "a61cb46a-9318-45c8-a65e-2224c7e35da5"
      },
      "outputs": [
        {
          "output_type": "stream",
          "name": "stderr",
          "text": [
            "100%|██████████| 157/157 [00:04<00:00, 33.20batch/s, loss=83.1]"
          ]
        },
        {
          "output_type": "stream",
          "name": "stdout",
          "text": [
            "Test Loss: 87.5106\n"
          ]
        },
        {
          "output_type": "stream",
          "name": "stderr",
          "text": [
            "\n"
          ]
        }
      ],
      "source": [
        "ae_model.eval()\n",
        "test_loss=0.0\n",
        "\n",
        "# We will store all the latent codes corresponding to the test images for reuse\n",
        "# later on.\n",
        "zs_test = np.zeros((len(mnist_test_loader.dataset),ae_model.latent_dim))\n",
        "\n",
        "n = 0\n",
        "with tqdm(mnist_test_loader, unit=\"batch\") as tepoch:\n",
        "  for data, labels in tepoch:\n",
        "    # Put the data on the correct device:\n",
        "    data = data.to(device)\n",
        "\n",
        "    # Pass the data through the model\n",
        "    predict = ae_model(data)\n",
        "    reconstructions = predict['reconstructions']\n",
        "    z = predict['codes']\n",
        "\n",
        "    # Compute the AE loss\n",
        "    loss = reconstruction_loss(reconstructions, data)\n",
        "\n",
        "    # Store quantities of interest\n",
        "    minibatch_size = z.shape[0]\n",
        "    zs_test[n:(n+minibatch_size),:] = z.detach().cpu().numpy()\n",
        "\n",
        "    # Compute the loss\n",
        "    test_loss += loss.item()\n",
        "\n",
        "    # tqdm bar displays the loss\n",
        "    tepoch.set_postfix(loss=loss.item())\n",
        "\n",
        "    # increment n to fill next parts of the arrays\n",
        "    n += minibatch_size\n",
        "\n",
        "print('Test Loss: {:.4f}'.format(test_loss/len(mnist_test_loader)))"
      ]
    },
    {
      "cell_type": "markdown",
      "metadata": {
        "id": "assPaJqB5sa-"
      },
      "source": [
        "The test and training average reconstruction losses are indeed similar."
      ]
    },
    {
      "cell_type": "markdown",
      "metadata": {
        "id": "SoLTYl8ELZsj"
      },
      "source": [
        "Are you happy with the quality of the __reconstructions__? Next, we will see if this autoencoder model is good at __generating__ images.\n",
        "\n",
        "**Answer**: The quality of the reconstructions seems to be reasonably good, despite the fact that the reconstruction is a little bit more blury."
      ]
    },
    {
      "cell_type": "markdown",
      "metadata": {
        "id": "zO9ATQEiyr3b"
      },
      "source": [
        "# 2. Image generation with the vanilla autoencoder\n",
        "\n",
        "Unfortunately, the vanilla autoencoder is not in itself a generative model because it does not define a joint probability distribution of the data and latent codes. We need to come up with roundabout ways to synthetize data based on this model."
      ]
    },
    {
      "cell_type": "markdown",
      "metadata": {
        "id": "ECzGyqbyMaCt"
      },
      "source": [
        "In this section, we consider two naïve approaches to creating generative models from the AE. The general idea is the following:\n",
        "\n",
        "- train an autoencoder\n",
        "- estimate different statistics (mean, variance) of the data in the latent space\n",
        "- using these statistics, define a model based on a Gaussian distribution in the latent space\n",
        "- generate latent codes with this distribution, then decode them back to image space to obtain synthetic images\n",
        "\n",
        "We will consider these two situations :\n",
        "\n",
        "- a multivariate Gaussian distribution with __diagonal covariance matrix__ (each latent variable is an independent random variable). This requires the mean and variance in each latent variable;\n",
        "- a multivariate Gaussian distribution with __non-diagonal covariance matrix__. This requires the mean and covariance matrix of the latent codes.\n",
        "\n",
        "Obviously, since this is done _a posteriori_ after training the autoencoder, there is nothing which guarantees that the latent codes do indeed follow a Gaussian distribution. Our goal will be to verify that Variational Autoencoders indeed produce better results than such naïve approaches."
      ]
    },
    {
      "cell_type": "markdown",
      "metadata": {
        "id": "x2M1-BRmf56d"
      },
      "source": [
        "### 2.0. Defining and generating random Gaussian latent codes\n",
        "\n",
        "Let $z$ be a latent code and $D$ the dimension of the latent space (called ``latent_dim`` in the code). We suppose that the $z$'s follow a multivariate Gaussian distribution, written as:\n",
        "\n",
        "\\begin{equation}\n",
        "z \\sim \\mathcal{N}\\left(\n",
        "\\mu,\n",
        "\\bf{C}\n",
        "\\right),\n",
        "\\end{equation}\n",
        "where $\\mu$ and $\\bf{C}$ are the mean vector and covariance matrix of the Gaussian distribution. To define such a generative model, we must therefore determine $\\mu$ and $\\bf{C}$. Once this is done, we can generate a random Gaussian latent code in the following manner:\n",
        "\n",
        "\\begin{equation}\n",
        "z = \\mu + {\\bf{L}} \\varepsilon,\n",
        "\\end{equation}\n",
        "where $\\varepsilon$ is a random vector drawn from a multivariate normal distribution ($\\mu=0$ and ${\\bf{C}} = \\text{Id}$), and $\\bf{L}$ is output by a Cholesky decomposition of the positive semi-definite covariance matrix. In other words:\n",
        "\n",
        "\\begin{equation}\n",
        "{\\bf{C}} = {\\bf{L}}{\\bf{L}^T}.\n",
        "\\end{equation}\n",
        "\n",
        "This gives a simple method of producing a multivariate Gaussian random variable."
      ]
    },
    {
      "cell_type": "markdown",
      "metadata": {
        "id": "NWpucm972i7j"
      },
      "source": [
        "### 2.1. A Gaussian model with diagonal covariance\n",
        "\n",
        "The first naïve model is  defined in this first case as:\n",
        "\n",
        "- $\\bf{\\mu}=\\left[\\mu_0, \\mu_1, \\cdots, \\mu_{d-1}\\right]^T$\n",
        "- $\n",
        "  \\bf{C} = \\begin{pmatrix}\n",
        "\\sigma_0^2 & 0 & \\cdots & 0 \\\\\n",
        "0 & \\sigma_1^2 & \\cdots & 0 \\\\\n",
        "\\vdots & \\ddots & \\ddots & \\vdots \\\\\n",
        "0 & 0 & \\cdots & \\sigma_{d-1}^2\n",
        "\\end{pmatrix}$\n",
        "\n",
        "In this situation, therefore, the matrix $\\bf{L}$ can be calculated quite simply, as:\n",
        "- $\n",
        "  \\bf{L} = \\begin{pmatrix}\n",
        "\\sigma_0 & 0 & \\cdots & 0 \\\\\n",
        "0 & \\sigma_1 & \\cdots & 0 \\\\\n",
        "\\vdots & \\ddots & \\ddots & \\vdots \\\\\n",
        "0 & 0 & \\cdots & \\sigma_{d-1}\n",
        "\\end{pmatrix}$"
      ]
    },
    {
      "cell_type": "markdown",
      "metadata": {
        "id": "gZCIY7RsN4NY"
      },
      "source": [
        "We are going to compute the mean and the component-wise standard deviations from a batch of data. For simplicity you are going to use the latent codes `zs_test` corresponding to the test data to estimate these quantities.<br>\n",
        "\n",
        "It is actually bad practice, and it would be better to estimate them from the training dataset. We do not do so here for convenience because we have already computed `zs_test` above (we have verified above that overfitting was not a problem, so the difference between the two estimates should be minor)."
      ]
    },
    {
      "cell_type": "code",
      "execution_count": 100,
      "metadata": {
        "id": "sUXHCtvW2iQ0",
        "colab": {
          "base_uri": "https://localhost:8080/"
        },
        "outputId": "1bd14e8c-1137-4f7c-fc27-8e38eb9014e9"
      },
      "outputs": [
        {
          "output_type": "stream",
          "name": "stdout",
          "text": [
            "Average of latent codes: [-11.23860987   5.85749868 -18.75984223  -3.72193948  -2.24005077\n",
            "  -5.08970042  -9.10076802   4.98667132  11.34119696  15.7076822 ]\n",
            "Standard deviation of latent codes: [8.31020946 7.63552963 8.75673511 7.60129034 6.56653565 7.18761977\n",
            " 9.09968781 7.78504105 6.73064639 6.48919401]\n"
          ]
        }
      ],
      "source": [
        "# zs_test is of shape (N,D) where N is the test dataset size and D the latent dimension\n",
        "# Compute the vector of mean values and the vector of component-wise std's.\n",
        "z_average = np.mean(zs_test, axis=0)\n",
        "z_sigma = np.std(zs_test, axis=0)\n",
        "\n",
        "print(\"Average of latent codes:\",z_average)\n",
        "print(\"Standard deviation of latent codes:\",z_sigma)"
      ]
    },
    {
      "cell_type": "markdown",
      "metadata": {
        "id": "Lrpc62ML9K4l"
      },
      "source": [
        "Now, in the next cell generate data with this simple generative model using the approach described above. Display these images with the `display_images` function.\n",
        "\n",
        "__Hint__. You do not actually have to define the matrix $\\bf{L}$ in this case, an element-wise multiplication of two (properly chosen) vectors will suffice. To generate multivariate normal random variables you can use the following Pytorch function:\n",
        "\n",
        "- `torch.randn`\n",
        "\n",
        "To convert a numpy array to pytorch tensor, use `torch.from_numpy(...).float()`\n"
      ]
    },
    {
      "cell_type": "code",
      "execution_count": 101,
      "metadata": {
        "id": "cRXyUkVeppif"
      },
      "outputs": [],
      "source": [
        "def generate_images_diagonal_gaussian(ae_model, z_average, z_sigma, n_images = 5):\n",
        "    # Sample noise from a standard Gaussian distribution\n",
        "    epsilon = torch.randn(n_images, z_average.shape[0])\n",
        "\n",
        "    # Using epsilon, generate samples from N(mu,C)\n",
        "    z_generated = (\n",
        "        torch.from_numpy(z_average).float()\n",
        "        + torch.from_numpy(z_sigma).float() * epsilon)\n",
        "\n",
        "    # Decode back to image space\n",
        "    imgs_generated = ae_model.decoder(z_generated.to(device))\n",
        "\n",
        "    return imgs_generated"
      ]
    },
    {
      "cell_type": "code",
      "execution_count": 102,
      "metadata": {
        "id": "1_Tekii-9QEo",
        "colab": {
          "base_uri": "https://localhost:8080/",
          "height": 122
        },
        "outputId": "1055f3d6-2499-49cc-d965-6173c8ff2e76"
      },
      "outputs": [
        {
          "output_type": "display_data",
          "data": {
            "text/plain": [
              "<Figure size 640x480 with 5 Axes>"
            ],
            "image/png": "[encoded data removed]"
          },
          "metadata": {}
        }
      ],
      "source": [
        "imgs_generated = generate_images_diagonal_gaussian(ae_model, z_average, z_sigma, n_images=5)\n",
        "display_images(imgs_generated)"
      ]
    },
    {
      "cell_type": "markdown",
      "metadata": {
        "id": "xiNaEgLIloeA"
      },
      "source": [
        "What do you think of these samples? Next let's try a slightly more sophisticated model.\n",
        "\n",
        "**Answer**:\n",
        "Some of the samples are not clearly easy to identify as a specific digit."
      ]
    },
    {
      "cell_type": "markdown",
      "metadata": {
        "id": "WjVPfkRKYMSh"
      },
      "source": [
        "### 2.2. Non-diagonal Gaussian model\n",
        "\n",
        "The second model uses a non-diagonal covariance matrix $\\bf{C}$ in the multivariate Gaussian distribution. In the next cell, calculate the mean and covariance matrix from `zs_test`.\n",
        "\n",
        "__Hint__. You can use the `np.cov` function. Make sure to put the data in the right format for this. The documentation might be incorrect, print the shape of z_covariance to verify that you have a matrix of the correct shape (the covariance matrix and not the Gram matrix)."
      ]
    },
    {
      "cell_type": "code",
      "execution_count": 103,
      "metadata": {
        "id": "ArXgre39CD2H",
        "colab": {
          "base_uri": "https://localhost:8080/"
        },
        "outputId": "498ffa5c-ce6a-4601-ce07-9b4822a407de"
      },
      "outputs": [
        {
          "output_type": "stream",
          "name": "stdout",
          "text": [
            "Average of latent codes: [-11.23860987   5.85749868 -18.75984223  -3.72193948  -2.24005077\n",
            "  -5.08970042  -9.10076802   4.98667132  11.34119696  15.7076822 ]\n",
            "Covariance matrix of latent codes: [[ 69.06648786  21.04885621  10.41294857  -0.6358642  -22.24687191\n",
            "    3.35878208  19.92159246  -0.44410519  -5.07434919  -0.50468039]\n",
            " [ 21.04885621  58.30714337  11.89677985  24.30531542  -5.60501892\n",
            "   16.95028484  -3.68869304  19.54329747  17.84110932   7.04139325]\n",
            " [ 10.41294857  11.89677985  76.6880786   -1.8264318   24.59231523\n",
            "  -14.35295604  28.3615269   27.68529092 -21.36670694  -6.39719104]\n",
            " [ -0.6358642   24.30531542  -1.8264318   57.78539332 -12.20330076\n",
            "    8.69552879 -20.54687027   4.06069087   8.76016187   7.13059021]\n",
            " [-22.24687191  -5.60501892  24.59231523 -12.20330076  43.12370277\n",
            "  -10.45122669   0.18761751  14.61039268  -5.65864703  -1.06637868]\n",
            " [  3.35878208  16.95028484 -14.35295604   8.69552879 -10.45122669\n",
            "   51.66704473 -36.53582512 -10.47144442  28.72223467 -12.38781789]\n",
            " [ 19.92159246  -3.68869304  28.3615269  -20.54687027   0.18761751\n",
            "  -36.53582512  82.81259946  20.37193642 -24.28838199   6.7817611 ]\n",
            " [ -0.44410519  19.54329747  27.68529092   4.06069087  14.61039268\n",
            "  -10.47144442  20.37193642  60.61292548  -0.9379671    2.46859853]\n",
            " [ -5.07434919  17.84110932 -21.36670694   8.76016187  -5.65864703\n",
            "   28.72223467 -24.28838199  -0.9379671   45.30613146  -2.259077  ]\n",
            " [ -0.50468039   7.04139325  -6.39719104   7.13059021  -1.06637868\n",
            "  -12.38781789   6.7817611    2.46859853  -2.259077    42.11385031]]\n"
          ]
        }
      ],
      "source": [
        "z_average = np.mean(zs_test, axis=0)\n",
        "z_covariance = np.cov(zs_test.T)\n",
        "\n",
        "print(\"Average of latent codes:\", z_average)\n",
        "print(\"Covariance matrix of latent codes:\", z_covariance)"
      ]
    },
    {
      "cell_type": "markdown",
      "metadata": {
        "id": "JhXU8cnTZ0E8"
      },
      "source": [
        "Now, generate some samples with this distribution. In this case, you actually have to calculate the Cholesky decomposition and find $\\bf{L}$. For this, you can use `np.linalg.cholesky`. Then compute the latent codes according to $z = \\mu + {\\bf{L}} \\varepsilon$.\n",
        "\n",
        "__Hint__. You can use `torch.matmul`. Pay attention to the dimension of `epsilon` to implement it correctly."
      ]
    },
    {
      "cell_type": "code",
      "execution_count": 104,
      "metadata": {
        "id": "rSbYZLZGrcdR"
      },
      "outputs": [],
      "source": [
        "# calculate Cholesky decomposition of covariance matrix : C = L L^T\n",
        "L = np.linalg.cholesky(z_covariance)"
      ]
    },
    {
      "cell_type": "code",
      "execution_count": 105,
      "metadata": {
        "id": "zXGlJTZ7Z4ed"
      },
      "outputs": [],
      "source": [
        "def generate_images_non_diagonal_gaussian(ae_model, z_average, L, n_images = 5):\n",
        "\n",
        "  # Generate noise according to a standard Gaussian distribution\n",
        "  epsilon = torch.randn(n_images, z_average.shape[0])\n",
        "\n",
        "  # Sample latent codes using epsilon\n",
        "  z_generated = torch.from_numpy(z_average).float() + torch.matmul(\n",
        "        epsilon, torch.from_numpy(L).float())\n",
        "\n",
        "  # Decode back to image space\n",
        "  imgs_generated = ae_model.decoder(z_generated.to(device))\n",
        "\n",
        "  return imgs_generated"
      ]
    },
    {
      "cell_type": "markdown",
      "metadata": {
        "id": "xs0o_VUvR3jl"
      },
      "source": [
        "Generate images using this model now:"
      ]
    },
    {
      "cell_type": "code",
      "execution_count": 106,
      "metadata": {
        "id": "kGCJVjbXsKLE",
        "colab": {
          "base_uri": "https://localhost:8080/",
          "height": 122
        },
        "outputId": "93ad0b36-d415-4c93-d816-7ce8c55f7a0c"
      },
      "outputs": [
        {
          "output_type": "display_data",
          "data": {
            "text/plain": [
              "<Figure size 640x480 with 5 Axes>"
            ],
            "image/png": "[encoded data removed]"
          },
          "metadata": {}
        }
      ],
      "source": [
        "imgs_generated = generate_images_non_diagonal_gaussian(ae_model, z_average, L, n_images = 5)\n",
        "display_images(imgs_generated)"
      ]
    },
    {
      "cell_type": "markdown",
      "metadata": {
        "id": "qLtsdri6zKEm"
      },
      "source": [
        "You should see some improvement, but we can do better than this. Thus, we turn to the variational autoencoder."
      ]
    },
    {
      "cell_type": "markdown",
      "metadata": {
        "id": "8UqeNhuSdnDt"
      },
      "source": [
        "# 3. Variational autoencoder\n",
        "\n",
        "Now, we are going to create a variational autoencoder to carry out __image generation__. Let's first recall the idea of a variational autoencoder.\n",
        "\n",
        "### Main idea\n",
        "\n",
        "The main idea is to create an autoencoder whose latent codes follow a certain distribution (a Gaussian distribution in practice). This is done with two tools :\n",
        "\n",
        "- A specific architecture, where the encoder produces the mean and variance of the latent codes\n",
        "- A specially designed loss function\n",
        "\n",
        "Once the VAE is trained, it is possible to sample in the latent space by producing random normal variables and simply decoding.\n",
        "\n",
        "### Architecture\n",
        "\n",
        "The architecture of the VAE model is the same as before (using `Encoder` with `multiplier=2` and `Decoder`). However the wrapper `VAEModel` will be a bit more complex as we need to implement the reparametrization trick. We will also implement the code to generate samples (for test time).\n",
        "\n",
        "### Variational Autoencoder loss\n",
        "\n",
        "The VAE loss consists in a reconstruction loss and a KL divergence term.\n",
        "\n",
        "- The reconstruction loss is the same `reconstruction_loss` as before. In other words, the reconstructions are compared to the input images using binary cross-entropy. The reconstructions are generated by sampling a latent code from $q(z|x)$ and decoding it back to image space.\n",
        "\n",
        "- You will implement the KL divergence term manually below."
      ]
    },
    {
      "cell_type": "code",
      "execution_count": 107,
      "metadata": {
        "id": "6siMHQLheM4T"
      },
      "outputs": [],
      "source": [
        "class VAEModel(nn.Module):\n",
        "    def __init__(self, latent_dim):\n",
        "        super(VAEModel, self).__init__()\n",
        "\n",
        "        self.latent_dim = latent_dim\n",
        "        self.encoder = Encoder(latent_dim, multiplier=2)\n",
        "        self.decoder = Decoder(latent_dim)\n",
        "\n",
        "    def reparameterize(self, mean, logvar, mode='sample'):\n",
        "        \"\"\"\n",
        "        Samples from a normal distribution using the reparameterization trick.\n",
        "\n",
        "        Parameters\n",
        "        ----------\n",
        "        mean : torch.Tensor\n",
        "            Mean of the normal distribution. Shape (batch_size, latent_dim)\n",
        "\n",
        "        logvar : torch.Tensor\n",
        "            Diagonal log variance of the normal distribution. Shape (batch_size,\n",
        "            latent_dim)\n",
        "\n",
        "        mode : 'sample' or 'mean'\n",
        "            Returns either a sample from qzx, or just the mean of qzx. The former\n",
        "            is useful at training time. The latter is useful at inference time as\n",
        "            the mean is usually used for reconstruction, rather than a sample.\n",
        "        \"\"\"\n",
        "        if mode=='sample':\n",
        "            # Implements the reparametrization trick (slide 43):\n",
        "            std = torch.exp(1/2 * logvar)  # Standard deviation is exp(log variance / 2)\n",
        "            eps = torch.randn_like(std)\n",
        "            return mean + std * eps\n",
        "        elif mode=='mean':\n",
        "            return mean\n",
        "        else:\n",
        "            return ValueError(\"Unknown mode: {mode}\".format(mode))\n",
        "\n",
        "    def forward(self, x, mode='sample'):\n",
        "        \"\"\"\n",
        "        Forward pass of model, used for training or reconstruction.\n",
        "\n",
        "        Parameters\n",
        "        ----------\n",
        "        x : torch.Tensor\n",
        "            Batch of data. Shape (batch_size, n_chan, height, width)\n",
        "\n",
        "        mode : 'sample' or 'mean'\n",
        "            Reconstructs using either a sample from qzx or the mean of qzx\n",
        "        \"\"\"\n",
        "\n",
        "        # stats_qzx is the output of the encoder\n",
        "        stats_qzx = self.encoder(x)\n",
        "\n",
        "        # Use the reparametrization trick to sample from q(z|x)\n",
        "        samples_qzx = self.reparameterize(*stats_qzx.unbind(-1), mode=mode)\n",
        "\n",
        "        # Decode the samples to image space\n",
        "        reconstructions = self.decoder(samples_qzx)\n",
        "\n",
        "        # Return everything:\n",
        "        return {\n",
        "            'reconstructions': reconstructions,\n",
        "            'stats_qzx': stats_qzx,\n",
        "            'samples_qzx': samples_qzx}\n",
        "\n",
        "    def sample_qzx(self, x):\n",
        "        \"\"\"\n",
        "        Returns a sample z from the latent distribution q(z|x).\n",
        "\n",
        "        Parameters\n",
        "        ----------\n",
        "        x : torch.Tensor\n",
        "            Batch of data. Shape (batch_size, n_chan, height, width)\n",
        "        \"\"\"\n",
        "        stats_qzx = self.encoder(x)\n",
        "        samples_qzx = self.reparameterize(*stats_qzx.unbind(-1))\n",
        "        return samples_qzx\n",
        "\n",
        "    def sample_pz(self, N):\n",
        "        samples_pz = torch.randn(N, self.latent_dim, device=self.encoder.conv1.weight.device)\n",
        "        return samples_pz\n",
        "\n",
        "    def generate_samples(self, samples_pz=None, N=None):\n",
        "        if samples_pz is None:\n",
        "            if N is None:\n",
        "                return ValueError(\"samples_pz and N cannot be set to None at the same time. Specify one of the two.\")\n",
        "\n",
        "            # If samples z are not provided, we sample N samples from the prior\n",
        "            # p(z)=N(0,Id), using sample_pz\n",
        "            samples_pz =  self.sample_pz(N) # FILL IN CODE\n",
        "\n",
        "        # Decode the z's to obtain samples in image space (here, probability\n",
        "        # maps which can later be sampled from or thresholded)\n",
        "        generations =  self.decoder(samples_pz) # FILL IN CODE\n",
        "        return {'generations': generations}"
      ]
    },
    {
      "cell_type": "markdown",
      "metadata": {
        "id": "MUsrzszm-Hnf"
      },
      "source": [
        "The KL divergence term is computed as per the regularization term in slide 45 i.e., for each data sample in the mini-batch:\n",
        "$$\\frac{1}{2}\\sum_{j=1}^D (\\mu_j^2 + \\sigma_j^2 - 1 - \\log{\\sigma_j^2})$$"
      ]
    },
    {
      "cell_type": "code",
      "execution_count": 108,
      "metadata": {
        "id": "-pc40PPM7adL"
      },
      "outputs": [],
      "source": [
        "def kl_normal_loss(mean, logvar):\n",
        "    \"\"\"\n",
        "    Calculates the KL divergence between a normal distribution\n",
        "    with diagonal covariance and a unit normal distribution.\n",
        "\n",
        "    Parameters\n",
        "    ----------\n",
        "    mean : torch.Tensor\n",
        "        Mean of the normal distribution. Shape (batch_size, latent_dim) where\n",
        "        D is dimension of distribution.\n",
        "\n",
        "    logvar : torch.Tensor\n",
        "        Diagonal log variance of the normal distribution. Shape (batch_size,\n",
        "        latent_dim)\n",
        "    \"\"\"\n",
        "    # To be consistent with the reconstruction loss, wetake the mean over the\n",
        "    # minibatch (i.e., compute for each sample in the minibatch according to\n",
        "    # the equation above, then take the mean).\n",
        "    latent_kl = torch.mean(\n",
        "        1/2 * torch.sum(mean.pow(2) + torch.exp(logvar) - 1 - logvar, dim=1) )\n",
        "\n",
        "    return latent_kl"
      ]
    },
    {
      "cell_type": "markdown",
      "metadata": {
        "id": "WhJbXJ0y_8OI"
      },
      "source": [
        "The `BetaVAELoss` puts it all together as per slide 55."
      ]
    },
    {
      "cell_type": "code",
      "execution_count": 109,
      "metadata": {
        "id": "x_hr2EwiCRSv"
      },
      "outputs": [],
      "source": [
        "class BetaVAELoss(object):\n",
        "    \"\"\"\n",
        "    Compute the Beta-VAE loss\n",
        "\n",
        "    Parameters\n",
        "    ----------\n",
        "        beta: (scalar) the weight assigned to the regularization term\n",
        "    \"\"\"\n",
        "\n",
        "    def __init__(self, beta):\n",
        "        self.beta = beta\n",
        "\n",
        "    def __call__(self, reconstructions, data, stats_qzx):\n",
        "        stats_qzx = stats_qzx.unbind(-1)\n",
        "\n",
        "        # Reconstruction loss\n",
        "        rec_loss = reconstruction_loss(reconstructions, data)\n",
        "\n",
        "        # KL loss\n",
        "        kl_loss = kl_normal_loss(stats_qzx[0],stats_qzx[1])\n",
        "\n",
        "        # Total loss of beta-VAE\n",
        "        loss = rec_loss + self.beta * kl_loss\n",
        "\n",
        "        return loss"
      ]
    },
    {
      "cell_type": "markdown",
      "metadata": {
        "id": "3RGTCPZXWaz6"
      },
      "source": [
        "### Training the Variational Autoencoder"
      ]
    },
    {
      "cell_type": "markdown",
      "metadata": {
        "id": "hk_9fDIphlsi"
      },
      "source": [
        "This follows the traditional pipeline that you are by now familiar with."
      ]
    },
    {
      "cell_type": "code",
      "execution_count": 110,
      "metadata": {
        "id": "bOdRTeDAMJCO"
      },
      "outputs": [],
      "source": [
        "latent_dim = 10\n",
        "\n",
        "learning_rate = 1e-3\n",
        "n_epoch = 5 # use the same number of epochs as before for fairness"
      ]
    },
    {
      "cell_type": "code",
      "execution_count": 111,
      "metadata": {
        "id": "xGN3jpxqOOwg",
        "colab": {
          "base_uri": "https://localhost:8080/"
        },
        "outputId": "e68336c4-096e-4e47-ce54-9acf9547e920"
      },
      "outputs": [
        {
          "output_type": "stream",
          "name": "stdout",
          "text": [
            "cpu\n"
          ]
        }
      ],
      "source": [
        "device = torch.device(\"cuda:0\" if torch.cuda.is_available() else \"cpu\")\n",
        "print(device)"
      ]
    },
    {
      "cell_type": "code",
      "execution_count": 112,
      "metadata": {
        "id": "D5XnxIE1L1bI"
      },
      "outputs": [],
      "source": [
        "vae_model = VAEModel(latent_dim=latent_dim)\n",
        "vae_model = vae_model.to(device)"
      ]
    },
    {
      "cell_type": "code",
      "execution_count": 113,
      "metadata": {
        "id": "fBVo5s-dQCBb"
      },
      "outputs": [],
      "source": [
        "# To keep it simple, we can leave beta at 1.0 for the beta-VAE loss\n",
        "# Feel free to experiment with it to see different trade-offs between reconstruction\n",
        "# and generation performance.\n",
        "\n",
        "vae_loss = BetaVAELoss(beta=1.0)"
      ]
    },
    {
      "cell_type": "code",
      "execution_count": 114,
      "metadata": {
        "id": "GiqsBcP7KIT3"
      },
      "outputs": [],
      "source": [
        "# AdamW, with learning rate set to the parameter above and weight decay to 1e-4\n",
        "optimizer = optim.AdamW(vae_model.parameters(), lr=learning_rate, weight_decay=1e-4)"
      ]
    },
    {
      "cell_type": "code",
      "execution_count": 115,
      "metadata": {
        "id": "z4KHRufgxNmR",
        "colab": {
          "base_uri": "https://localhost:8080/"
        },
        "outputId": "fb19514d-db27-488f-9f40-f868fcfa77a2"
      },
      "outputs": [
        {
          "output_type": "stream",
          "name": "stderr",
          "text": [
            "Epoch 0: 100%|██████████| 938/938 [01:01<00:00, 15.33batch/s, loss=136]\n"
          ]
        },
        {
          "output_type": "stream",
          "name": "stdout",
          "text": [
            "Epoch 0: Train Loss: 184.9482\n"
          ]
        },
        {
          "output_type": "stream",
          "name": "stderr",
          "text": [
            "Epoch 1: 100%|██████████| 938/938 [01:01<00:00, 15.19batch/s, loss=121]\n"
          ]
        },
        {
          "output_type": "stream",
          "name": "stdout",
          "text": [
            "Epoch 1: Train Loss: 129.6161\n"
          ]
        },
        {
          "output_type": "stream",
          "name": "stderr",
          "text": [
            "Epoch 2: 100%|██████████| 938/938 [01:02<00:00, 15.06batch/s, loss=109]\n"
          ]
        },
        {
          "output_type": "stream",
          "name": "stdout",
          "text": [
            "Epoch 2: Train Loss: 120.0484\n"
          ]
        },
        {
          "output_type": "stream",
          "name": "stderr",
          "text": [
            "Epoch 3: 100%|██████████| 938/938 [01:01<00:00, 15.21batch/s, loss=115]\n"
          ]
        },
        {
          "output_type": "stream",
          "name": "stdout",
          "text": [
            "Epoch 3: Train Loss: 115.9769\n"
          ]
        },
        {
          "output_type": "stream",
          "name": "stderr",
          "text": [
            "Epoch 4: 100%|██████████| 938/938 [01:01<00:00, 15.35batch/s, loss=106]"
          ]
        },
        {
          "output_type": "stream",
          "name": "stdout",
          "text": [
            "Epoch 4: Train Loss: 113.7631\n"
          ]
        },
        {
          "output_type": "stream",
          "name": "stderr",
          "text": [
            "\n"
          ]
        }
      ],
      "source": [
        "vae_model.train()\n",
        "\n",
        "for epoch in range(0,n_epoch):\n",
        "  train_loss=0.0\n",
        "\n",
        "  with tqdm(mnist_train_loader, unit=\"batch\") as tepoch:\n",
        "    for data, labels in tepoch:\n",
        "      tepoch.set_description(f\"Epoch {epoch}\")\n",
        "\n",
        "      # Put data on correct device, GPU or CPU\n",
        "      data = data.to(device)\n",
        "\n",
        "      # Pass the input data through the model\n",
        "      predict = vae_model(data)\n",
        "      reconstructions = predict['reconstructions']\n",
        "      stats_qzx = predict['stats_qzx']\n",
        "\n",
        "      # Compute the beta-VAE loss\n",
        "      loss = vae_loss(reconstructions, data, stats_qzx)\n",
        "\n",
        "      # Backpropagate\n",
        "      optimizer.zero_grad()\n",
        "      loss.backward()\n",
        "      optimizer.step()\n",
        "\n",
        "      # Aggregate the training loss for display at the end of the epoch\n",
        "      train_loss += loss.item()\n",
        "\n",
        "      # tqdm bar displays the loss\n",
        "      tepoch.set_postfix(loss=loss.item())\n",
        "\n",
        "  print('Epoch {}: Train Loss: {:.4f}'.format(epoch, train_loss/len(mnist_train_loader)))"
      ]
    },
    {
      "cell_type": "markdown",
      "metadata": {
        "id": "3DFW0vPRXrSB"
      },
      "source": [
        "### Testing the VAE model"
      ]
    },
    {
      "cell_type": "markdown",
      "metadata": {
        "id": "Who7o-hAXLhl"
      },
      "source": [
        "Let's check how well the VAE reconstructs training samples:"
      ]
    },
    {
      "cell_type": "code",
      "execution_count": 116,
      "metadata": {
        "id": "NiRg43Bgx_MH",
        "colab": {
          "base_uri": "https://localhost:8080/",
          "height": 324
        },
        "outputId": "4fad3a1a-5a32-4f88-c889-9120733c5e8a"
      },
      "outputs": [
        {
          "output_type": "display_data",
          "data": {
            "text/plain": [
              "<Figure size 640x480 with 10 Axes>"
            ],
            "image/png": "[encoded data removed]"
          },
          "metadata": {}
        }
      ],
      "source": [
        "# reconstructing training images\n",
        "train_imgs = next(iter(mnist_train_loader))[0]\n",
        "display_ae_images(vae_model, train_imgs)"
      ]
    },
    {
      "cell_type": "markdown",
      "metadata": {
        "id": "Bqa9wmZ3XSxD"
      },
      "source": [
        "Same for test samples:"
      ]
    },
    {
      "cell_type": "code",
      "execution_count": 117,
      "metadata": {
        "id": "IRJ9-V0tx_MJ",
        "colab": {
          "base_uri": "https://localhost:8080/",
          "height": 324
        },
        "outputId": "1d52a850-2b4e-4d74-d31d-cbaa0b9fa80e"
      },
      "outputs": [
        {
          "output_type": "display_data",
          "data": {
            "text/plain": [
              "<Figure size 640x480 with 10 Axes>"
            ],
            "image/png": "[encoded data removed]"
          },
          "metadata": {}
        }
      ],
      "source": [
        "# reconstructing test images\n",
        "test_imgs = next(iter(mnist_test_loader))[0]\n",
        "display_ae_images(vae_model, test_imgs)"
      ]
    },
    {
      "cell_type": "markdown",
      "metadata": {
        "id": "OR-uGTX2XaEB"
      },
      "source": [
        "Let's compute the quantitative `reconstruction_loss` on the test data:"
      ]
    },
    {
      "cell_type": "code",
      "execution_count": 118,
      "metadata": {
        "id": "P0EzdVDzx_MJ",
        "colab": {
          "base_uri": "https://localhost:8080/"
        },
        "outputId": "c4f9c636-d8ed-4ae0-a96e-8e2b6af8bdef"
      },
      "outputs": [
        {
          "output_type": "stream",
          "name": "stderr",
          "text": [
            "100%|██████████| 157/157 [00:04<00:00, 32.67batch/s, loss=90.6]"
          ]
        },
        {
          "output_type": "stream",
          "name": "stdout",
          "text": [
            "Test Loss: 95.3355\n"
          ]
        },
        {
          "output_type": "stream",
          "name": "stderr",
          "text": [
            "\n"
          ]
        }
      ],
      "source": [
        "vae_model.eval()\n",
        "test_loss=0.0\n",
        "\n",
        "# We will store all the latent codes corresponding to the test images for reuse\n",
        "# later on.\n",
        "zs_test = np.zeros((len(mnist_test_loader.dataset),vae_model.latent_dim))\n",
        "\n",
        "n = 0\n",
        "with tqdm(mnist_test_loader, unit=\"batch\") as tepoch:\n",
        "  for data, labels in tepoch:\n",
        "    # Put the data on the correct device:\n",
        "    data = data.to(device)\n",
        "\n",
        "    # Pass the data through the model\n",
        "    predict = vae_model(data)\n",
        "    reconstructions = predict['reconstructions']\n",
        "\n",
        "    # Compute the AE loss\n",
        "    loss = reconstruction_loss(reconstructions, data)\n",
        "\n",
        "\n",
        "    # Compute the loss\n",
        "    test_loss += loss.item()\n",
        "\n",
        "    # tqdm bar displays the loss\n",
        "    tepoch.set_postfix(loss=loss.item())\n",
        "\n",
        "    # increment n to fill next parts of the arrays\n",
        "    #n += minibatch_size\n",
        "\n",
        "print('Test Loss: {:.4f}'.format(test_loss/len(mnist_test_loader)))"
      ]
    },
    {
      "cell_type": "markdown",
      "metadata": {
        "id": "wFOJ0yCzXuxO"
      },
      "source": [
        "### Image generation with the VAE model"
      ]
    },
    {
      "cell_type": "markdown",
      "metadata": {
        "id": "uTfRje_AkKDr"
      },
      "source": [
        "Now, generate some images with the VAE model. You can directly use the `generate_samples` routine from the `VAEModel` class above."
      ]
    },
    {
      "cell_type": "code",
      "execution_count": 119,
      "metadata": {
        "id": "NGt_LSDEE2vz"
      },
      "outputs": [],
      "source": [
        "def generate_images_vae(vae_model, n_images=5):\n",
        "    return vae_model.generate_samples(N=n_images)[\"generations\"]"
      ]
    },
    {
      "cell_type": "code",
      "execution_count": 120,
      "metadata": {
        "id": "41tXdNsFkKk5",
        "colab": {
          "base_uri": "https://localhost:8080/",
          "height": 122
        },
        "outputId": "b84264da-52d6-4189-a771-7fb2f5acae4d"
      },
      "outputs": [
        {
          "output_type": "display_data",
          "data": {
            "text/plain": [
              "<Figure size 640x480 with 5 Axes>"
            ],
            "image/png": "[encoded data removed]"
          },
          "metadata": {}
        }
      ],
      "source": [
        "imgs_generated = generate_images_vae(vae_model)\n",
        "\n",
        "display_images(imgs_generated)"
      ]
    },
    {
      "cell_type": "markdown",
      "metadata": {
        "id": "lGnvKoynzaFN"
      },
      "source": [
        "Do you think the results are better ? What advantage does the Variational Autoencoder have over the simple autoencoder model, even though the second (non-diagonal Gaussian model) AE approach has a more complex probabilistic latent model (a full covariance matrix)?\n",
        "\n",
        "\n",
        "**Answer**:\n",
        "\n",
        "Looking to some examples the results do not seem  much better. Despite the fact that AEs even with full covariance matrix can handle with more complex patterns in the latent space, VAEs provides generally a more robust framework, because of the way its constructed in the latent space.\n",
        "\n",
        "Also, I would say that the VAE model strongly depends on the value of $\\beta$ chosen. When β is low, the emphasis is more on minimizing the reconstruction error, which can lead to better performance in reconstructing inputs. On the other hand, When β is high, the model prioritizes minimizing the KL divergence, promoting stronger adherence to the prior distribution. This enhances the latent space structure, aiding in generating new, training-like data points, but may reduce reconstruction accuracy."
      ]
    },
    {
      "cell_type": "markdown",
      "metadata": {
        "id": "uXm-D9Ef9vYm"
      },
      "source": [
        "Next, we compare the models quantitavely."
      ]
    },
    {
      "cell_type": "markdown",
      "metadata": {
        "id": "04MddkzuE324"
      },
      "source": [
        "# 4. Evaluating and comparing the models for image generation"
      ]
    },
    {
      "cell_type": "code",
      "execution_count": 121,
      "metadata": {
        "id": "D8WsuVqmaWmd",
        "colab": {
          "base_uri": "https://localhost:8080/"
        },
        "outputId": "a2eeee64-6acc-4485-a924-471ff1c4512e"
      },
      "outputs": [
        {
          "output_type": "stream",
          "name": "stdout",
          "text": [
            "cpu\n"
          ]
        }
      ],
      "source": [
        "device = torch.device(\"cuda:0\" if torch.cuda.is_available() else \"cpu\")\n",
        "print(device)"
      ]
    },
    {
      "cell_type": "markdown",
      "metadata": {
        "id": "B93T6PD2YhgF"
      },
      "source": [
        "Nowadays, the standard metric to evaluate the generative performance of a model is the FID (Fréchet Inception Distance). I leave it for you as optional homework to implement it if you wish to do so.\n",
        "\n",
        "Here, we will follow another path, a simplified version of the Inception Score (IS) that has been somewhat superseded by the FID:\n",
        "\n",
        "- we train a simple convolutional neural network classifier on MNIST, to a good accuracy\n",
        "- we generate images with each model\n",
        "- we find the average of the highest probability of the images according to the classifier, for each model. If this value is high, it means that on average the classifier considers that the images looks like a real image of an actual digit"
      ]
    },
    {
      "cell_type": "markdown",
      "metadata": {
        "id": "Fk1OdN6jZZf1"
      },
      "source": [
        "We will use the following simple convolutional architecture for the classifier:\n",
        "\n",
        "- conv2d, 3x3 kernel, 32 filters, stride=2, padding=1; + ReLU + BatchNorm2d\n",
        "- conv2d, 3x3 kernel, 64 filters, stride=2, padding=1; + ReLU + BatchNorm2d\n",
        "- conv2d, 3x3 kernel, 128 filters, stride=2, padding=1; + ReLU + BatchNorm2d\n",
        "- Global Average Pooling\n",
        "- Flatten\n",
        "- Dense layer\n",
        "\n",
        "Now, define the model. To make things easier, we use the `torch.nn.Sequential` API to implement the model (there is no need for a Class in this simple case).\n",
        "\n",
        "__Hint__. For the global average pooling, use the `torch.nn.AvgPool2d` layer with the suitable kernel size and stride."
      ]
    },
    {
      "cell_type": "code",
      "execution_count": 122,
      "metadata": {
        "id": "P87a-DkXFOCv"
      },
      "outputs": [],
      "source": [
        "nb_classes = 10\n",
        "kernel_size = (3, 3)\n",
        "\n",
        "mnist_classification_model = torch.nn.Sequential(\n",
        "    torch.nn.Conv2d(in_channels=1, out_channels=32, kernel_size=kernel_size, stride=2, padding=1),\n",
        "    torch.nn.ReLU(),\n",
        "    torch.nn.BatchNorm2d(32),\n",
        "    torch.nn.Conv2d(in_channels=32, out_channels=64, kernel_size=kernel_size, stride=2, padding=1),\n",
        "    torch.nn.ReLU(),\n",
        "    torch.nn.BatchNorm2d(64),\n",
        "\n",
        "    torch.nn.Conv2d(in_channels=64, out_channels=128, kernel_size=kernel_size, stride=2, padding=1),\n",
        "    torch.nn.ReLU(),\n",
        "    torch.nn.BatchNorm2d(128),\n",
        "\n",
        "    torch.nn.AdaptiveAvgPool2d(output_size=(1, 1)),\n",
        "\n",
        "    torch.nn.Flatten(),\n",
        "\n",
        "    torch.nn.Linear(128, nb_classes)\n",
        "  )\n",
        "\n",
        "mnist_classification_model = mnist_classification_model.to(device)"
      ]
    },
    {
      "cell_type": "code",
      "execution_count": 123,
      "metadata": {
        "id": "rJ6ZYkKVaY64"
      },
      "outputs": [],
      "source": [
        "learning_rate = 1e-2\n",
        "n_epoch = 5"
      ]
    },
    {
      "cell_type": "code",
      "execution_count": 124,
      "metadata": {
        "id": "Zexnteq71bJ5"
      },
      "outputs": [],
      "source": [
        "# Cross entropy with reduction='sum'\n",
        "criterion = nn.CrossEntropyLoss(reduction='sum')"
      ]
    },
    {
      "cell_type": "code",
      "execution_count": 125,
      "metadata": {
        "id": "pWkFh6zHajBg"
      },
      "outputs": [],
      "source": [
        "# AdamW, weight decay set to 1e-4\n",
        "optimizer = optim.AdamW(mnist_classification_model.parameters(),\n",
        "                        lr=learning_rate, weight_decay=1e-4)"
      ]
    },
    {
      "cell_type": "code",
      "execution_count": 126,
      "metadata": {
        "id": "eBZrmVV42Gej"
      },
      "outputs": [],
      "source": [
        "def vector_to_class(x):\n",
        "  y = torch.argmax(F.softmax(x,dim=1),axis=1)\n",
        "  return y"
      ]
    },
    {
      "cell_type": "code",
      "execution_count": 127,
      "metadata": {
        "id": "aOww0ydr2fT0"
      },
      "outputs": [],
      "source": [
        "def cnn_accuracy(x_pred,x_label):\n",
        "  acc = (x_pred == x_label).sum()/(x_pred.shape[0])\n",
        "  return acc"
      ]
    },
    {
      "cell_type": "code",
      "execution_count": 128,
      "metadata": {
        "id": "0FA8YoX2FcHP",
        "colab": {
          "base_uri": "https://localhost:8080/"
        },
        "outputId": "cf46f28e-f5e3-4373-cad5-eb4f1acb3250"
      },
      "outputs": [
        {
          "output_type": "stream",
          "name": "stderr",
          "text": [
            "Epoch 0: 100%|██████████| 938/938 [00:54<00:00, 17.20batch/s, loss=1.08]\n"
          ]
        },
        {
          "output_type": "stream",
          "name": "stdout",
          "text": [
            "Epoch:0 Train Loss:0.1638 Accuracy:0.9512\n"
          ]
        },
        {
          "output_type": "stream",
          "name": "stderr",
          "text": [
            "Epoch 1: 100%|██████████| 938/938 [00:55<00:00, 17.05batch/s, loss=5.87]\n"
          ]
        },
        {
          "output_type": "stream",
          "name": "stdout",
          "text": [
            "Epoch:1 Train Loss:0.0612 Accuracy:0.9813\n"
          ]
        },
        {
          "output_type": "stream",
          "name": "stderr",
          "text": [
            "Epoch 2: 100%|██████████| 938/938 [00:53<00:00, 17.45batch/s, loss=0.147]\n"
          ]
        },
        {
          "output_type": "stream",
          "name": "stdout",
          "text": [
            "Epoch:2 Train Loss:0.0484 Accuracy:0.9847\n"
          ]
        },
        {
          "output_type": "stream",
          "name": "stderr",
          "text": [
            "Epoch 3: 100%|██████████| 938/938 [00:54<00:00, 17.11batch/s, loss=0.64]\n"
          ]
        },
        {
          "output_type": "stream",
          "name": "stdout",
          "text": [
            "Epoch:3 Train Loss:0.0359 Accuracy:0.9883\n"
          ]
        },
        {
          "output_type": "stream",
          "name": "stderr",
          "text": [
            "Epoch 4: 100%|██████████| 938/938 [00:53<00:00, 17.55batch/s, loss=0.103]\n"
          ]
        },
        {
          "output_type": "stream",
          "name": "stdout",
          "text": [
            "Epoch:4 Train Loss:0.0304 Accuracy:0.9902\n"
          ]
        }
      ],
      "source": [
        "mnist_classification_model.train()\n",
        "\n",
        "for epoch in range(0,n_epoch):\n",
        "  train_loss=0.0\n",
        "  all_labels = []\n",
        "  all_predicted = []\n",
        "\n",
        "  with tqdm(mnist_train_loader, unit=\"batch\") as tepoch:\n",
        "    for imgs, labels in tepoch:\n",
        "      tepoch.set_description(f\"Epoch {epoch}\")\n",
        "\n",
        "      # Put data on correct device\n",
        "      imgs = imgs.to(device)\n",
        "      labels = labels.to(device)\n",
        "\n",
        "      # forward pass and loss computation\n",
        "      predict = mnist_classification_model(imgs)\n",
        "      loss = criterion(predict, labels)\n",
        "\n",
        "      # backpropagation\n",
        "      optimizer.zero_grad()\n",
        "      loss.backward()\n",
        "      optimizer.step()\n",
        "\n",
        "      # compute the train loss\n",
        "      train_loss += loss.item()\n",
        "\n",
        "      # store labels and class predictions\n",
        "      all_labels.extend(labels.tolist())\n",
        "      all_predicted.extend(vector_to_class(predict).tolist())\n",
        "\n",
        "      # tqdm bar displays the loss\n",
        "      tepoch.set_postfix(loss=loss.item())\n",
        "\n",
        "  print('Epoch:{} Train Loss:{:.4f} Accuracy:{:.4f}'.format(epoch,train_loss/len(mnist_train_loader.dataset),\n",
        "                                                            cnn_accuracy(np.array(all_predicted),np.array(all_labels))))"
      ]
    },
    {
      "cell_type": "code",
      "execution_count": 129,
      "metadata": {
        "id": "5bRM-1_x4bu2",
        "colab": {
          "base_uri": "https://localhost:8080/"
        },
        "outputId": "2de589ef-c716-406b-cf68-d56361868803"
      },
      "outputs": [
        {
          "output_type": "stream",
          "name": "stderr",
          "text": [
            "100%|██████████| 157/157 [00:03<00:00, 44.59batch/s]"
          ]
        },
        {
          "output_type": "stream",
          "name": "stdout",
          "text": [
            "\n",
            "Test Accuracy: 0.9827\n"
          ]
        },
        {
          "output_type": "stream",
          "name": "stderr",
          "text": [
            "\n"
          ]
        }
      ],
      "source": [
        "mnist_classification_model.eval()\n",
        "\n",
        "all_predicted = []\n",
        "all_labels = []\n",
        "\n",
        "with tqdm(mnist_test_loader, unit=\"batch\") as tepoch:\n",
        "  for imgs, labels in tepoch:\n",
        "    all_labels.extend(labels.tolist())\n",
        "\n",
        "    imgs = imgs.to(device)\n",
        "    predict=mnist_classification_model(imgs)\n",
        "    all_predicted.extend(vector_to_class(predict).tolist())\n",
        "\n",
        "test_accuracy = cnn_accuracy(np.array(all_predicted),np.array(all_labels))\n",
        "\n",
        "print(\"\\nTest Accuracy:\", test_accuracy)"
      ]
    },
    {
      "cell_type": "markdown",
      "metadata": {
        "id": "zFgN5LblFwTa"
      },
      "source": [
        "### Evaluate the average maximum prediction of the images generated by each generative model (higher is better)\n",
        "\n",
        "Now, we evaluate the models. For each ones, produce a certain number of images, and put those images through the classification network. Then find the maximum class probability of each image, and average it over all the images. We will use this as a metric to evaluate each model.\n",
        "\n",
        "__CAREFUL__: the output of the network does __not__ include the Softmax layer, so you will have to carry it out, with:\n",
        "- ```torch.nn.Softmax()(...)```\n",
        "\n",
        "Define this metric now:"
      ]
    },
    {
      "cell_type": "code",
      "execution_count": 130,
      "metadata": {
        "id": "lCJ_0qqjOXHT"
      },
      "outputs": [],
      "source": [
        "def generative_model_score(imgs_in,classification_model):\n",
        "\n",
        "    model_predictions = classification_model(imgs_in)\n",
        "\n",
        "    probabilities = F.softmax(model_predictions, dim=1)\n",
        "\n",
        "    max_probabilities = torch.max(probabilities, dim=1)[0]\n",
        "\n",
        "    gen_score = torch.mean(max_probabilities)\n",
        "    return gen_score"
      ]
    },
    {
      "cell_type": "markdown",
      "metadata": {
        "id": "yGq7YFg51UoP"
      },
      "source": [
        "Now, generate some images with each of the three models, and evaluate these models:"
      ]
    },
    {
      "cell_type": "code",
      "execution_count": 133,
      "metadata": {
        "id": "4-L4u2jhILFx",
        "colab": {
          "base_uri": "https://localhost:8080/"
        },
        "outputId": "0461adbd-909b-4a21-d470-e9d7a3b88960"
      },
      "outputs": [
        {
          "output_type": "stream",
          "name": "stdout",
          "text": [
            "Diagonal gaussian generative model score :  0.8671494722366333\n",
            "Non diagonal gaussian generative model score :  0.8736852407455444\n",
            "Variational autoencoder model score:  0.8998370170593262\n"
          ]
        }
      ],
      "source": [
        "imgs_diagonal_gaussian = generate_images_diagonal_gaussian(ae_model,z_average,z_sigma,n_images = 2000)\n",
        "imgs_non_diagonal_gaussian = generate_images_non_diagonal_gaussian(ae_model,z_average,L,n_images = 2000)\n",
        "imgs_vae = generate_images_vae(vae_model,n_images=2000)\n",
        "\n",
        "# average of maximum of first model\n",
        "diagonal_gaussian_score = float(generative_model_score(imgs_diagonal_gaussian,mnist_classification_model))\n",
        "non_diagonal_gaussian_score = float(generative_model_score(imgs_non_diagonal_gaussian,mnist_classification_model))\n",
        "vae_gaussian_score = float(generative_model_score(imgs_vae,mnist_classification_model))\n",
        "\n",
        "print(\"Diagonal gaussian generative model score : \",diagonal_gaussian_score)\n",
        "print(\"Non diagonal gaussian generative model score : \",non_diagonal_gaussian_score)\n",
        "print(\"Variational autoencoder model score: \",vae_gaussian_score)"
      ]
    },
    {
      "cell_type": "markdown",
      "metadata": {
        "id": "sxvsG8FC1gNS"
      },
      "source": [
        "Questions:\n",
        "\n",
        "- Which model is better quantitatively ? (unfortunately there is some variability, even with 2000 samples; you might want to rerun the cell several times to get the trend)\n",
        "\n",
        "**Answer**:\n",
        "As we can see by the results above, generally the VAE has the best peformance with the selected $\\beta$ followed by Non diagonal gaussian generative model, and diagonal gaussian generative model.\n",
        "\n",
        "- Do the quantitative result support the qualitative results ?\n",
        "\n",
        "**Answer**: The quantitative results makes sense with the qualitative results. We could see that the results of the VAE are highly depeddent of $\\beta$, and that the non-diagonal gaussian generative model produces better result compared to the diagonal.\n",
        "\n",
        "\n",
        "- Can you see any drawbacks of this method of evaluation ?\n",
        "\n",
        "**Answer**: One of the drawbacks of this method is that it focus only on the network's classification final result and it makes it possible to establish comparisons only on a given dataset.Alternatively, it would be possible to  use the Fréchet Inception Distance (FID). The Fréchet Inception Distance (FID) offers a direct assessment of image quality by comparing the feature representation distributions of features representations of both real and generated images, making it adaptable across various datasets and tasks. FID evaluates the quality and diversity of the generated images and computes a single scalar value, facilitating quantitative comparisons.\n",
        "\n",
        "- Can you propose any more sophisticated models than the multivariate Gaussian approach (apart from the variational autoencoder) ?\n",
        "\n",
        "**Answer** : We could use a GAN(Generative Adversarial Neural) Net, that we saw in the class after the one of VAE.\n",
        "In a Generative Adversarial Network (GAN), the generator and discriminator play crucial but opposing roles. The generator is responsible for creating new data instances by taking a random noise vector from a latent space and transforming it into data that mimics the real data distribution, with the ultimate goal of producing data so convincing that the discriminator cannot tell if it is real or fake. On the other hand, the discriminator evaluates the authenticity of the data it receives, which can either be real data from the training set or synthetic data from the generator. Its main function is to act as a classifier, deciding whether the data before it is genuine or artificially created by the generator. Together, these two components engage in a continuous adversarial process to refine the quality and authenticity of the generated data.\n"
      ]
    }
  ],
  "metadata": {
    "colab": {
      "provenance": []
    },
    "kernelspec": {
      "display_name": "Python 3",
      "name": "python3"
    },
    "language_info": {
      "codemirror_mode": {
        "name": "ipython",
        "version": 3
      },
      "file_extension": ".py",
      "mimetype": "text/x-python",
      "name": "python",
      "nbconvert_exporter": "python",
      "pygments_lexer": "ipython3",
      "version": "3.9.12"
    }
  },
  "nbformat": 4,
  "nbformat_minor": 0
}