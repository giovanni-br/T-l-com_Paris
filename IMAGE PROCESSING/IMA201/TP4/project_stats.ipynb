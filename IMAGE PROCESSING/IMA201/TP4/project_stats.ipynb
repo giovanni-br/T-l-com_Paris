{
 "cells": [
  {
   "cell_type": "markdown",
   "id": "528c4397",
   "metadata": {},
   "source": [
    "# MDI220\n",
    "# Statistics\n",
    "\n",
    "# Project "
   ]
  },
  {
   "cell_type": "markdown",
   "id": "9f9f9769",
   "metadata": {},
   "source": [
    "This is the project for the course on statistics.\n",
    "\n",
    "You must fill this notebook and upload it on eCampus, **including figures**. Please make sure that it runs **without erros**.\n",
    "\n",
    "You can work in teams but the final notebook, including text and code, must be **yours**. Any copy-pasting across students is strictly forbidden.\n",
    "\n",
    "Please provide **concise answers** and **concise code**, with comments when appropriate."
   ]
  },
  {
   "cell_type": "markdown",
   "id": "ca534555",
   "metadata": {},
   "source": [
    "## Your name:"
   ]
  },
  {
   "cell_type": "markdown",
   "id": "986d36a8",
   "metadata": {},
   "source": [
    "## Imports"
   ]
  },
  {
   "cell_type": "markdown",
   "id": "f30a6df8",
   "metadata": {},
   "source": [
    "Please do **not** import any other library."
   ]
  },
  {
   "cell_type": "code",
   "execution_count": null,
   "id": "d453a573",
   "metadata": {},
   "outputs": [],
   "source": [
    "import numpy as np\n",
    "import pandas as pd\n",
    "import matplotlib.pyplot as plt"
   ]
  },
  {
   "cell_type": "code",
   "execution_count": null,
   "id": "18e10613",
   "metadata": {},
   "outputs": [],
   "source": [
    "from scipy.stats import norm, chi2, gaussian_kde"
   ]
  },
  {
   "cell_type": "code",
   "execution_count": null,
   "id": "2e543f41",
   "metadata": {},
   "outputs": [],
   "source": [
    "import seaborn as sns"
   ]
  },
  {
   "cell_type": "markdown",
   "id": "150efe52",
   "metadata": {},
   "source": [
    "## Data"
   ]
  },
  {
   "cell_type": "markdown",
   "id": "a447bd21",
   "metadata": {},
   "source": [
    "We consider the **daily electric power consumption** (in MW) in France in the period 2013-2023. The dataset is available on **eCampus**. \n",
    "\n",
    "Detailed information on this dataset is available [here](https://www.data.gouv.fr/fr/datasets/consommation-quotidienne-brute-regionale/)."
   ]
  },
  {
   "cell_type": "code",
   "execution_count": null,
   "id": "a5379d2c",
   "metadata": {},
   "outputs": [],
   "source": [
    "# do not modify this cell\n",
    "filename = 'power_consumption.csv'\n",
    "df = pd.read_csv(filename)"
   ]
  },
  {
   "cell_type": "code",
   "execution_count": null,
   "id": "c67ea70e",
   "metadata": {},
   "outputs": [],
   "source": [
    "df.head()"
   ]
  },
  {
   "cell_type": "code",
   "execution_count": null,
   "id": "9e299cd9",
   "metadata": {},
   "outputs": [],
   "source": [
    "regions = list(df.region.unique())"
   ]
  },
  {
   "cell_type": "code",
   "execution_count": null,
   "id": "907ac06f",
   "metadata": {},
   "outputs": [],
   "source": [
    "regions"
   ]
  },
  {
   "cell_type": "code",
   "execution_count": null,
   "id": "2e2704da",
   "metadata": {},
   "outputs": [],
   "source": [
    "# average consumption per region\n",
    "df[[\"region\", \"consumption\"]].groupby(\"region\").mean().astype(int)"
   ]
  },
  {
   "cell_type": "code",
   "execution_count": null,
   "id": "3ed15bbc",
   "metadata": {},
   "outputs": [],
   "source": [
    "# average consumption in France (MW)\n",
    "df[[\"region\", \"consumption\"]].groupby(\"region\").mean().sum().astype(int)"
   ]
  },
  {
   "cell_type": "code",
   "execution_count": null,
   "id": "2ebdd086",
   "metadata": {},
   "outputs": [],
   "source": [
    "# selection of a region\n",
    "region = \"Bretagne\"\n",
    "df_region = df[df.region == region]"
   ]
  },
  {
   "cell_type": "code",
   "execution_count": null,
   "id": "bbb87de5",
   "metadata": {},
   "outputs": [],
   "source": [
    "# density (with kde = kernel density estimation)\n",
    "sns.kdeplot(data=df_region, x=\"consumption\", label=\"Data\", color='blue', fill=True)\n",
    "plt.title(region)\n",
    "plt.xlabel(\"Consumption (MW)\")\n",
    "plt.legend() \n",
    "plt.show()"
   ]
  },
  {
   "cell_type": "markdown",
   "id": "045ae627",
   "metadata": {},
   "source": [
    "## A. Parameter estimation"
   ]
  },
  {
   "cell_type": "markdown",
   "id": "99972e6a",
   "metadata": {},
   "source": [
    "In all the project, the daily power consumptions are assumed to be i.i.d., with a Gaussian distribution. \n",
    "\n",
    "We use the following estimators for the mean and the variance, given $n$ observations $x_1,\\ldots,x_n$:\n",
    "$$\n",
    "\\hat \\mu = \\frac 1 n \\sum_{i=1}^n x_i\\quad \\hat{\\sigma^2} = \\frac 1 {n-1}\\sum_{i=1}^n (x_i - \\hat \\mu)^2\n",
    "$$\n",
    "The corresponding estimate of the standard deviation is:\n",
    "$$\n",
    "\\hat \\sigma = \\sqrt{\\hat{\\sigma^2}}\n",
    "$$\n",
    "\n",
    "Consider the region Bretagne. \n",
    "\n",
    "1. Show that the estimators for the mean and the variance are unbiased."
   ]
  },
  {
   "cell_type": "markdown",
   "id": "fc43c835",
   "metadata": {},
   "source": [
    "Your answer:"
   ]
  },
  {
   "cell_type": "markdown",
   "id": "259c0fed",
   "metadata": {},
   "source": [
    "2. Give the values obtained for the mean and the standard deviation using these estimators."
   ]
  },
  {
   "cell_type": "code",
   "execution_count": null,
   "id": "d51c8554",
   "metadata": {},
   "outputs": [],
   "source": []
  },
  {
   "cell_type": "markdown",
   "id": "d0c9e4bf",
   "metadata": {},
   "source": [
    "3. Generate new data using the corresponding Gaussian model, with the same number of samples."
   ]
  },
  {
   "cell_type": "code",
   "execution_count": null,
   "id": "baedf3c5",
   "metadata": {},
   "outputs": [],
   "source": []
  },
  {
   "cell_type": "markdown",
   "id": "87a6506c",
   "metadata": {},
   "source": [
    "4. Plot the *kde* (kernel density estimate) of real data and the *kde* of generated data on the same figure."
   ]
  },
  {
   "cell_type": "code",
   "execution_count": null,
   "id": "4bfd9db4",
   "metadata": {},
   "outputs": [],
   "source": []
  },
  {
   "cell_type": "markdown",
   "id": "fc054c89",
   "metadata": {},
   "source": [
    "5. Do the same for the days corresponding to winter (from December 22 to March 21), after updating the model."
   ]
  },
  {
   "cell_type": "code",
   "execution_count": null,
   "id": "5a67eb62",
   "metadata": {},
   "outputs": [],
   "source": []
  },
  {
   "cell_type": "markdown",
   "id": "2c341977",
   "metadata": {},
   "source": [
    "6. In which case the Gaussian model seems more appropriate?"
   ]
  },
  {
   "cell_type": "code",
   "execution_count": null,
   "id": "4de574f5",
   "metadata": {},
   "outputs": [],
   "source": []
  },
  {
   "cell_type": "markdown",
   "id": "3b396ff6",
   "metadata": {},
   "source": [
    "## B. Goodness of fit"
   ]
  },
  {
   "cell_type": "markdown",
   "id": "b5d39610",
   "metadata": {},
   "source": [
    "We would like to confirm and quantify the observation of part A.\n",
    "\n",
    "We propose the following metric to measure the dissimilarity between two pdf $f$ and $g$ (with respect to the Lebesgue measure):\n",
    "$$\n",
    "d(f, g) = \\frac 1 2 \\int |f(x) - g(x)| \\mathrm dx.\n",
    "$$"
   ]
  },
  {
   "cell_type": "markdown",
   "id": "87b5684d",
   "metadata": {},
   "source": [
    "1. Show that $d(f,g) \\in [0,1]$, with $d(f,g)=0$ if and only if $f=g$ almost everywhere (for the Lebesgue measure) and $d(f,g)=1$ if and only if $f$ and $g$ have disjoint supports."
   ]
  },
  {
   "cell_type": "markdown",
   "id": "397f4544",
   "metadata": {},
   "source": [
    "Your answser:"
   ]
  },
  {
   "cell_type": "markdown",
   "id": "ae7d158a",
   "metadata": {},
   "source": [
    "2. For the region Bretagne, compute the dissimilarity between the *kde* of real data and the density of the Gaussian model."
   ]
  },
  {
   "cell_type": "code",
   "execution_count": null,
   "id": "43801814",
   "metadata": {},
   "outputs": [],
   "source": []
  },
  {
   "cell_type": "markdown",
   "id": "f8817106",
   "metadata": {},
   "source": [
    "3. Do the same for the region Bretagne in winter and check your conclusion of part A."
   ]
  },
  {
   "cell_type": "code",
   "execution_count": null,
   "id": "7b15a902",
   "metadata": {},
   "outputs": [],
   "source": []
  },
  {
   "cell_type": "markdown",
   "id": "7d78fec0",
   "metadata": {},
   "source": [
    "4. Do the same for all regions. Give the result as a single dataframe."
   ]
  },
  {
   "cell_type": "code",
   "execution_count": null,
   "id": "fef07b23",
   "metadata": {},
   "outputs": [],
   "source": []
  },
  {
   "cell_type": "markdown",
   "id": "3f0d3f61",
   "metadata": {},
   "source": [
    "5. Which region is best fitted by a Gaussian model in winter?"
   ]
  },
  {
   "cell_type": "code",
   "execution_count": null,
   "id": "251b89b1",
   "metadata": {},
   "outputs": [],
   "source": []
  },
  {
   "cell_type": "markdown",
   "id": "aff086e4",
   "metadata": {},
   "source": [
    "6. For this region and this season, plot the *kde* of real data and the *kde* of generated data on the same figure, as in part A."
   ]
  },
  {
   "cell_type": "code",
   "execution_count": null,
   "id": "d61bb84e",
   "metadata": {},
   "outputs": [],
   "source": []
  },
  {
   "cell_type": "markdown",
   "id": "838fb2d1",
   "metadata": {},
   "source": [
    "## C. Bayesian statistics"
   ]
  },
  {
   "cell_type": "markdown",
   "id": "92daddb8",
   "metadata": {},
   "source": [
    "We would like to include prior knowledge on the estimation, using Bayesian statistics.\n",
    "\n",
    "Consider the region Bretagne in winter. We focus on the mean $\\mu$, assuming the standard deviation is known and equal to $\\sigma=400$MW. We assume a Gaussian prior on $\\mu$ with mean $\\mu_0=3500$MW and standard deviation $\\sigma_0=500$MW. \n",
    "\n",
    "1. Give the posterior distribution of $\\mu$, using the parameters $\\sigma$, $\\mu_0$, $\\sigma_0$ and the $n$ observations $x_1,\\ldots,x_n$."
   ]
  },
  {
   "cell_type": "markdown",
   "id": "2d66e4b9",
   "metadata": {},
   "source": [
    "Your answer:"
   ]
  },
  {
   "cell_type": "markdown",
   "id": "9ce2daad",
   "metadata": {},
   "source": [
    "2. Give the parameters of the posterior distribution obtained for each year from 2013 to 2023, considered independently, in a single dataframe."
   ]
  },
  {
   "cell_type": "code",
   "execution_count": null,
   "id": "74439986",
   "metadata": {},
   "outputs": [],
   "source": []
  },
  {
   "cell_type": "markdown",
   "id": "34e7e53f",
   "metadata": {},
   "source": [
    "3. Plot the density of the posterior distribution in 2023 and the *kde* of real data in 2023 on the same plot."
   ]
  },
  {
   "cell_type": "code",
   "execution_count": null,
   "id": "eb02344e",
   "metadata": {},
   "outputs": [],
   "source": []
  },
  {
   "cell_type": "markdown",
   "id": "34f2f990",
   "metadata": {},
   "source": [
    "4. Discuss the results, comparing to those obtained in part A."
   ]
  },
  {
   "cell_type": "markdown",
   "id": "b636cd1b",
   "metadata": {},
   "source": [
    "Your answer:"
   ]
  },
  {
   "cell_type": "markdown",
   "id": "fbb2395b",
   "metadata": {},
   "source": [
    "## D. Hypothesis testing"
   ]
  },
  {
   "cell_type": "markdown",
   "id": "9829b730",
   "metadata": {},
   "source": [
    "Consider the region Bretagne. While the standard deviation is equal to 400MW in winter, you would like to test the hypothesis that it was 500MW in 2023. The mean is supposed to be known and equal to 3200MW.\n",
    "1. Propose a statistical test at level $\\alpha$."
   ]
  },
  {
   "cell_type": "markdown",
   "id": "eabddc9c",
   "metadata": {},
   "source": [
    "Your answer:"
   ]
  },
  {
   "cell_type": "markdown",
   "id": "7d66ab40",
   "metadata": {},
   "source": [
    "2. Provide the result of this test for $\\alpha=1\\%$."
   ]
  },
  {
   "cell_type": "code",
   "execution_count": null,
   "id": "5e961bfd",
   "metadata": {},
   "outputs": [],
   "source": []
  },
  {
   "cell_type": "markdown",
   "id": "a59a2a96",
   "metadata": {},
   "source": [
    "## E. Testing independence"
   ]
  },
  {
   "cell_type": "markdown",
   "id": "a71cf918",
   "metadata": {},
   "source": [
    "Consider the power consumption in Bretagne and Provence-Alpes-Côte d'Azur in winter. "
   ]
  },
  {
   "cell_type": "markdown",
   "id": "a7c78215",
   "metadata": {},
   "source": [
    "1. Visualize the joint distribution of power consumption in these 2 regions using seaborn."
   ]
  },
  {
   "cell_type": "code",
   "execution_count": null,
   "id": "29b4c335",
   "metadata": {},
   "outputs": [],
   "source": []
  },
  {
   "cell_type": "markdown",
   "id": "a30a20bc",
   "metadata": {},
   "source": [
    "2. Do you think the power consumption in these two regions is independent?"
   ]
  },
  {
   "cell_type": "markdown",
   "id": "bedb9130",
   "metadata": {},
   "source": [
    "Your answer:"
   ]
  },
  {
   "cell_type": "markdown",
   "id": "164f9b1c",
   "metadata": {},
   "source": [
    "3. Propose a chi-2 test for the independence of the power consumption in these two regions at level $\\alpha$. "
   ]
  },
  {
   "cell_type": "markdown",
   "id": "f079fecb",
   "metadata": {},
   "source": [
    "Your answer:"
   ]
  },
  {
   "cell_type": "markdown",
   "id": "50a23229",
   "metadata": {},
   "source": [
    "4. Give the result of this test for $\\alpha=1\\%$. "
   ]
  },
  {
   "cell_type": "code",
   "execution_count": null,
   "id": "5e744874",
   "metadata": {},
   "outputs": [],
   "source": []
  },
  {
   "cell_type": "markdown",
   "id": "339d7f64",
   "metadata": {},
   "source": [
    "## F. Confidence intervals"
   ]
  },
  {
   "cell_type": "markdown",
   "id": "1c957e74",
   "metadata": {},
   "source": [
    "Consider the region Bretagne in winter. \n",
    "\n",
    "1. Provide a confidence interval at level $\\alpha=95\\%$ for the mean power consumption. "
   ]
  },
  {
   "cell_type": "code",
   "execution_count": null,
   "id": "cd6315e4",
   "metadata": {},
   "outputs": [],
   "source": []
  },
  {
   "cell_type": "markdown",
   "id": "8490c8fa",
   "metadata": {},
   "source": [
    "2. Give the result of a Student test at level $5\\%$ for the null hypothesis that the mean consumption in 2023 is equal to 3100MW."
   ]
  },
  {
   "cell_type": "code",
   "execution_count": null,
   "id": "547fb138",
   "metadata": {},
   "outputs": [],
   "source": []
  }
 ],
 "metadata": {
  "kernelspec": {
   "display_name": "Python 3 (ipykernel)",
   "language": "python",
   "name": "python3"
  },
  "language_info": {
   "codemirror_mode": {
    "name": "ipython",
    "version": 3
   },
   "file_extension": ".py",
   "mimetype": "text/x-python",
   "name": "python",
   "nbconvert_exporter": "python",
   "pygments_lexer": "ipython3",
   "version": "3.9.18"
  }
 },
 "nbformat": 4,
 "nbformat_minor": 5
}
