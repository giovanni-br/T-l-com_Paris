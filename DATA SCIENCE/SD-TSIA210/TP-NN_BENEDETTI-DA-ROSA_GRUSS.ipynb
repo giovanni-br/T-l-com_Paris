{
 "cells": [
  {
   "cell_type": "markdown",
   "metadata": {
    "colab_type": "text",
    "id": "iafPdtuncbq7"
   },
   "source": [
    "# TP: MNIST with Neural Networks (NN)\n",
    "## SD-TSIA 210 | Télécom-Paris 2024\n",
    "## Giovanni Benedetti da Rosa (Gr. 2) & Carlos Gruss (Gr. 3)"
   ]
  },
  {
   "cell_type": "code",
   "execution_count": 1,
   "metadata": {
    "colab": {},
    "colab_type": "code",
    "id": "OlKZ3Hnas7B4"
   },
   "outputs": [
    {
     "name": "stdout",
     "output_type": "stream",
     "text": [
      "WARNING:tensorflow:From C:\\Users\\carlos\\AppData\\Local\\Packages\\PythonSoftwareFoundation.Python.3.9_qbz5n2kfra8p0\\LocalCache\\local-packages\\Python39\\site-packages\\keras\\src\\losses.py:2976: The name tf.losses.sparse_softmax_cross_entropy is deprecated. Please use tf.compat.v1.losses.sparse_softmax_cross_entropy instead.\n",
      "\n",
      "Using Python version 3.9.13 (tags/v3.9.13:6de2ca5, May 17 2022, 16:36:42) [MSC v.1929 64 bit (AMD64)]\n",
      "Using tensorflow version 2.15.0\n",
      "Using keras version 2.15.0\n"
     ]
    }
   ],
   "source": [
    "import numpy as np\n",
    "from matplotlib import pyplot as plt\n",
    "\n",
    "import tensorflow as tf\n",
    "\n",
    "import keras\n",
    "from keras.datasets import mnist\n",
    "\n",
    "import sys\n",
    "\n",
    "print(\"Using Python version \" + str(sys.version))\n",
    "print(\"Using tensorflow version \" + str(tf.__version__))\n",
    "print(\"Using keras version \" + str(keras.__version__))"
   ]
  },
  {
   "cell_type": "markdown",
   "metadata": {
    "colab_type": "text",
    "id": "s_QLz9_jbRZq"
   },
   "source": [
    "## Loading and preparing the MNIST dataset\n",
    "Load the MNIST dataset made available by keras.datasets. Check the size of the training and testing sets. \n",
    "\n",
    "<div class='alert alert-block alert-info'>\n",
    "            Code:</div>"
   ]
  },
  {
   "cell_type": "code",
   "execution_count": 2,
   "metadata": {
    "cellView": "both",
    "colab": {},
    "colab_type": "code",
    "id": "gG83hGyVmijn"
   },
   "outputs": [
    {
     "name": "stdout",
     "output_type": "stream",
     "text": [
      "Training images size: (60000, 28, 28)\n",
      "Training labels size: (60000,)\n",
      "Test images size: (10000, 28, 28)\n",
      "Test labels size: (10000,)\n"
     ]
    }
   ],
   "source": [
    "# The MNSIT dataset is ready to be imported from Keras into RAM\n",
    "# Warning: you cannot do that for larger databases (e.g., ImageNet)\n",
    "\n",
    "(train_images, train_labels), (test_images, test_labels) = mnist.load_data()\n",
    "\n",
    "# Let's check the size of the data\n",
    "print(\"Training images size: \" + str(train_images.shape))\n",
    "print(\"Training labels size: \" + str(train_labels.shape))\n",
    "print(\"Test images size: \" + str(test_images.shape))\n",
    "print(\"Test labels size: \" + str(test_labels.shape))"
   ]
  },
  {
   "cell_type": "markdown",
   "metadata": {
    "colab_type": "text",
    "id": "gRPbU_Z4U6Ac"
   },
   "source": [
    "The MNIST database contains 60,000 training images and 10,000 testing images.\n",
    "Using the pyplot package, visualize the first sample of the training set:\n",
    "\n",
    "<div class='alert alert-block alert-info'>\n",
    "            Code:</div>"
   ]
  },
  {
   "cell_type": "code",
   "execution_count": 3,
   "metadata": {
    "colab": {},
    "colab_type": "code",
    "id": "x5VAu7oW0Zu4"
   },
   "outputs": [
    {
     "data": {
      "image/png": "[encoded data removed]",
      "text/plain": [
       "<Figure size 640x480 with 1 Axes>"
      ]
     },
     "metadata": {},
     "output_type": "display_data"
    }
   ],
   "source": [
    "plt.imshow(train_images[0], cmap='gray')\n",
    "plt.show()"
   ]
  },
  {
   "cell_type": "code",
   "execution_count": 4,
   "metadata": {},
   "outputs": [
    {
     "data": {
      "text/plain": [
       "35.108418367346935"
      ]
     },
     "execution_count": 4,
     "metadata": {},
     "output_type": "execute_result"
    }
   ],
   "source": [
    "train_images[0].astype('float').mean()"
   ]
  },
  {
   "cell_type": "markdown",
   "metadata": {
    "colab_type": "text",
    "id": "s7YsRekMVDg-"
   },
   "source": [
    "The database contains images of handwritten digits. Hence, they belong to one of 10 categories, depending on the digit they represent. \n",
    "Reminder: in order to do multi-class classification, we use the softmax function, which outputs a multinomial probability distribution. That means that the output to our model will be a vector of size $10$, containing probabilities (meaning that the elements of the vector will be positive sum to $1$).\n",
    "For easy computation, we want to true labels to be represented with the same format: that is what we call **one-hot encoding**. For example, if an image $\\mathbf{x}$ represents the digit $5$, we have the corresponding one_hot label (careful, $0$ will be the first digit): \n",
    "$$ \\mathbf{y} = [0, 0, 0, 0, 0, 1, 0, 0, 0, 0] $$\n",
    "Here, you need to turn train and test labels to one-hot encoding using the following function: \n",
    "\n",
    "<div class='alert alert-block alert-info'>\n",
    "            Code:</div>"
   ]
  },
  {
   "cell_type": "code",
   "execution_count": 5,
   "metadata": {
    "colab": {},
    "colab_type": "code",
    "id": "lQbkllF8mnaf"
   },
   "outputs": [],
   "source": [
    "# One-hot encode target column\n",
    "train_labels = tf.one_hot(train_labels, 10).numpy()\n",
    "test_labels = tf.one_hot(test_labels, 10).numpy()"
   ]
  },
  {
   "cell_type": "markdown",
   "metadata": {
    "colab_type": "text",
    "id": "0jv29YLtVO3q"
   },
   "source": [
    "Images are black and white, with size $28 \\times 28$. We will work with them using a simple linear classification model, meaning that we will have them as vectors of size $(784)$.\n",
    "You should then transform the images to the size $(784)$ using the numpy function ```reshape```.\n",
    "\n",
    "Then, after casting the pixels to floats, normalize the images so that they have zero-mean and unitary deviation. Be careful to your methodology: while you have access to training data, you may not have access to testing data, and must avoid using any statistic on the testing dataset.\n",
    "\n",
    "<div class='alert alert-block alert-info'>\n",
    "            Code:</div>"
   ]
  },
  {
   "cell_type": "code",
   "execution_count": 6,
   "metadata": {
    "colab": {},
    "colab_type": "code",
    "id": "ptTRSDo5nJyZ"
   },
   "outputs": [],
   "source": [
    "# Reshape images to vectors of pixels\n",
    "img_rows, img_cols = train_images.shape[1], train_images.shape[2]\n",
    "train_images = train_images.reshape(train_images.shape[0], img_rows * img_cols)\n",
    "test_images = test_images.reshape(test_images.shape[0], img_rows * img_cols)\n",
    "\n",
    "# Cast pixels from uint8 to float32\n",
    "train_images = train_images.astype('float32')\n",
    "test_images = test_images.astype('float32')\n",
    "\n",
    "# Now let us normalize the images so that they have zero mean and standard deviation\n",
    "# Hint: are real testing data statistics known at training time ?\n",
    "mean = np.mean(train_images)\n",
    "std = np.std(train_images)\n",
    "train_images = (train_images - mean) / std\n",
    "test_images = (test_images - mean) / std"
   ]
  },
  {
   "cell_type": "markdown",
   "metadata": {},
   "source": [
    "# First part: working with Numpy\n",
    "\n",
    "Look at this [cheatsheet](https://s3.amazonaws.com/assets.datacamp.com/blog_assets/Numpy_Python_Cheat_Sheet.pdf) for some basic information on how to use numpy.\n",
    "\n",
    "### Defining the model \n",
    "\n",
    "We will here create a simple, linear classification model. We will take each pixel in the image as an input feature (making the size of the input to be $784$) and transform these features with a weight matrix $\\mathbf{W}$ and a bias vector $\\mathbf{b}$. Since there is $10$ possible classes, we want to obtain $10$ scores. Then, \n",
    "$$ \\mathbf{W} \\in \\mathbb{R}^{784 \\times 10} $$\n",
    "$$ \\mathbf{b} \\in \\mathbb{R}^{10} $$\n",
    "\n",
    "and our scores are obtained with:\n",
    "$$ \\mathbf{z} = \\mathbf{W}^{T} \\mathbf{x} +  \\mathbf{b} $$\n",
    "\n",
    "where $\\mathbf{x} \\in \\mathbb{R}^{784}$ is the input vector representing an image.\n",
    "We note $\\mathbf{y} \\in \\mathbb{R}^{10}$ as the target one_hot vector. \n",
    "\n",
    "Here, you fist need to initialize $\\mathbf{W}$ and $\\mathbf{b}$ using ```np.random.normal``` and ```np.zeros```, then compute $\\mathbf{z}$.\n",
    "<div class='alert alert-block alert-info'>\n",
    "            Code:</div>"
   ]
  },
  {
   "cell_type": "code",
   "execution_count": 7,
   "metadata": {},
   "outputs": [],
   "source": [
    "# To avoid implementing a complicated gradient back-propagation,\n",
    "# we will try a very simple architecture with one layer\n",
    "def initLayer(n_input, n_output):\n",
    "    \"\"\"\n",
    "    Initialize the weights, return the number of parameters\n",
    "    Inputs: n_input: the number of input units - int\n",
    "          : n_output: the number of output units - int\n",
    "    Outputs: W: a matrix of weights for the layer - numpy ndarray\n",
    "           : b: a vector bias for the layer - numpy ndarray\n",
    "           : nb_params: the number of parameters  - int\n",
    "    \"\"\"\n",
    "    # Create W at the right size with a normal distribution\n",
    "    W = np.random.normal(size=(n_input, n_output))\n",
    "\n",
    "    # Create b at the right size, with zeros\n",
    "    b = np.zeros(n_output)\n",
    "    nb_params = n_input*n_output + n_output\n",
    "    \n",
    "    return W, b, nb_params"
   ]
  },
  {
   "cell_type": "code",
   "execution_count": 8,
   "metadata": {},
   "outputs": [],
   "source": [
    "n_input = train_images.shape[1]\n",
    "n_output = train_labels.shape[1]\n",
    "W, b, nb_params = initLayer(n_input, n_output)"
   ]
  },
  {
   "cell_type": "markdown",
   "metadata": {},
   "source": [
    "<div class='alert alert-block alert-info'>\n",
    "            Code:</div>"
   ]
  },
  {
   "cell_type": "code",
   "execution_count": 9,
   "metadata": {},
   "outputs": [],
   "source": [
    "def forward(W, b, X):\n",
    "    \"\"\"\n",
    "    Perform the forward propagation\n",
    "    Inputs: W: the weights - numpy ndarray\n",
    "          : b: the bias - numpy ndarray\n",
    "          : X: the batch - numpy ndarray\n",
    "    Outputs: z: outputs - numpy ndarray\n",
    "    \"\"\"\n",
    "    z = X @ W + b\n",
    "    return z"
   ]
  },
  {
   "cell_type": "markdown",
   "metadata": {},
   "source": [
    "### Computing the output \n",
    "\n",
    "To obtain classification probabilities, we use the softmax function:\n",
    "$$ \\mathbf{o} = softmax(\\mathbf{z}) \\text{         with          } o_i = \\frac{\\exp(z_i)}{\\sum_{j=0}^{9} \\exp(z_j)} $$\n",
    "\n",
    "The usual difficulty with the softmax function is the possibility of overflow when the scores $z_i$ are already large. What trick can we use to ensure we will not encounter any overflow ? \n",
    "\n",
    "Since a softmax is not affected by a shift affecting the whole vector $\\mathbf{z}$:\n",
    "\n",
    "$$ \n",
    "\\frac{\\exp(z_i - c)}{\\sum_{j=0}^{9} \\exp(z_j - c)} =  \\frac{\\exp(c) \\exp(z_i)}{\\exp(c) \\sum_{j=0}^{9} \\exp(z_j)} = \\frac{\\exp(z_i)}{\\sum_{j=0}^{9} \\exp(z_j)}\n",
    "$$\n",
    "\n",
    "We can just shift the pre-activation values by ther maximum, thus making all the values less than or equal to zero. Thus taking the exponential of them will no longer pose a risk of overflow.\n",
    "\n",
    "<div class='alert alert-block alert-info'>\n",
    "            Code:</div>"
   ]
  },
  {
   "cell_type": "code",
   "execution_count": 10,
   "metadata": {},
   "outputs": [],
   "source": [
    "def softmax(z):\n",
    "    \"\"\"\n",
    "    Perform the softmax transformation to the pre-activation values\n",
    "    Inputs: z: the pre-activation values - numpy ndarray\n",
    "    Outputs: out: the activation values - numpy ndarray\n",
    "    \"\"\"\n",
    "    max_z = np.max(z)\n",
    "    return np.exp(z - max_z) / np.sum(np.exp(z - max_z))"
   ]
  },
  {
   "cell_type": "markdown",
   "metadata": {},
   "source": [
    "### Making updates\n",
    "\n",
    "We define a learning rate $\\eta$. The goal is to be able to apply updates:\n",
    "$$ \\mathbf{W}^{t+1} = \\mathbf{W}^{t} - \\nabla_{\\mathbf{W}} l_{MLE} $$\n",
    "\n",
    "In order to do this, we will compute this gradient (and the bias) in the function ```update```. \n",
    "\n",
    "In the next function ```updateParams```, we will actually apply the update with regularization. \n",
    "\n",
    "Reminder: The gradient $\\nabla_{\\mathbf{W}} l_{MLE}$ is the matrix containing the partial derivatives \n",
    "\n",
    "$$ \n",
    "\\left[\\frac{\\delta l_{MLE}}{\\delta W_{ij}}\\right]_{i=1...784, \\,\\, j=1...10} \n",
    "$$\n",
    "\n",
    "**Remark**: Careful, the usual way of implementing this in Python has the dimensions of $\\mathbf{W}$ reversed compared to the notation of the slides.\n",
    "\n",
    "Coordinate by coordinate, we obtain the following update: \n",
    "$$ W_{ij}^{t+1} = W_{ij}^{t} - \\eta \\frac{\\delta l_{MLE}}{\\delta W_{ij}} $$\n",
    "\n",
    "Via the chain rule, we obtain, for an input feature $i \\in [0, 783]$ and a output class $j \\in [0, 9]$: $$\\frac{\\delta l_{MLE}}{\\delta W_{ij}} = \\frac{\\delta l_{MLE}}{\\delta z_{j}} \\frac{\\delta z_j}{\\delta W_{ij}}$$ \n",
    "\n",
    "It's easy to compute that $\\frac{\\delta z_j}{\\delta W_{ij}} = x_i$\n",
    "\n",
    "We compute the softmax derivative, to obtain:\n",
    "$$ \\nabla_{\\mathbf{z}} l_{MLE} = \\mathbf{o} - \\mathbf{y} $$\n",
    "\n",
    "Hence, $\\frac{\\delta l_{MLE}}{\\delta z_{j}} = o_j - y_j$ and we obtain that $$\\frac{\\delta l_{MLE}}{\\delta W_{ij}} = (o_j - y_j) x_i$$\n",
    "\n",
    "This can easily be written as a scalar product, and a similar computation (even easier, actually) can be done for $\\mathbf{b}$. \n",
    "\n",
    "Noting $\\nabla_{\\mathbf{z}} l_{MLE} = \\mathbf{o} - \\mathbf{y}$ as ```grad``` in the following function, compute the gradients $\\nabla_{\\mathbf{W}} l_{MLE}$ and $\\nabla_{\\mathbf{b}} l_{MLE}$ in order to call the function ```updateParams```.\n",
    "\n",
    "Note: The regularizer and the weight_decay $\\lambda$ are used in ```updateParams```.\n",
    "\n",
    "<div class='alert alert-block alert-info'>\n",
    "            Code:</div>"
   ]
  },
  {
   "cell_type": "code",
   "execution_count": 11,
   "metadata": {},
   "outputs": [],
   "source": [
    "def update(eta, W, b, grad, X, regularizer, weight_decay):\n",
    "    \"\"\"\n",
    "    Perform the update of the parameters\n",
    "    Inputs: eta: the step-size of the gradient descent - float \n",
    "          : W: the weights - ndarray\n",
    "          : b: the bias -  ndarray\n",
    "          : grad: the gradient of the activations w.r.t. to the loss -  list of ndarray\n",
    "          : X: the data -  ndarray\n",
    "          : regularizer: 'L2' or None - the regularizer to be used in updateParams\n",
    "          : weight_decay: the weight decay to be used in updateParams - float\n",
    "    Outputs: W: the weights updated -  ndarray\n",
    "           : b: the bias updated -  ndarray\n",
    "    \"\"\"\n",
    "    grad_w = np.outer(X, grad.T)\n",
    "    grad_b = grad\n",
    "\n",
    "    W = updateParams(W, grad_w, eta, regularizer, weight_decay)\n",
    "    b = updateParams(b, grad_b, eta, regularizer, weight_decay)\n",
    "    \n",
    "    return W, b"
   ]
  },
  {
   "cell_type": "markdown",
   "metadata": {},
   "source": [
    "The update rule is affected by regularization. We implement two cases: No regularization, or L2 regularization. Use the two possible update rules to implement the following function: <div class='alert alert-block alert-info'>\n",
    "            Code:</div>"
   ]
  },
  {
   "cell_type": "code",
   "execution_count": 12,
   "metadata": {},
   "outputs": [],
   "source": [
    "def updateParams(param, grad_param, eta, regularizer=None, weight_decay=0.):\n",
    "    \"\"\"\n",
    "    Perform the update of the parameters\n",
    "    Inputs: param: the network parameters - ndarray\n",
    "          : grad_param: the updates of the parameters - ndarray\n",
    "          : eta: the step-size of the gradient descent - float\n",
    "          : weight_decay: the weight-decay - float\n",
    "    Outputs: the parameters updated - ndarray\n",
    "    \"\"\"\n",
    "    if regularizer == None:\n",
    "        output = param - eta * grad_param \n",
    "        return output\n",
    "    elif regularizer == 'L2':\n",
    "        output = param - eta * (grad_param + weight_decay * param)\n",
    "        return output\n",
    "    else:\n",
    "        raise NotImplementedError"
   ]
  },
  {
   "cell_type": "markdown",
   "metadata": {},
   "source": [
    "### Computing the Accuracy\n",
    "\n",
    "Here, we simply use the model to predict the class (by taking the argmax of the output !) for every example in ```X```, and count the number of times the model is right, to output the accuracy.\n",
    "<div class='alert alert-block alert-info'>\n",
    "            Code:</div>"
   ]
  },
  {
   "cell_type": "code",
   "execution_count": 13,
   "metadata": {},
   "outputs": [],
   "source": [
    "def computeAcc(W, b, X, labels):\n",
    "    \"\"\"\n",
    "    Compute the loss value of the current network on the full batch\n",
    "    Inputs: \n",
    "          : W: the weights - list of ndarray\n",
    "          : B: the bias - list of ndarray\n",
    "          : X: the batch - ndarray\n",
    "          : labels: the labels corresponding to the batch\n",
    "    Outputs: \n",
    "           : accuracy: the ratio of examples that are well-classified - float\n",
    "    \"\"\" \n",
    "    # Forward propagation\n",
    "    z = forward(W, b, X)\n",
    " \n",
    "    # Compute the softmax and the prediction\n",
    "    out = softmax(z)\n",
    "    pred = np.argmax(out, axis=1)\n",
    "    \n",
    "    # Compute the accuracy\n",
    "    accuracy = np.mean(np.argmax(labels, axis=1) == pred)\n",
    "      \n",
    "    return accuracy"
   ]
  },
  {
   "cell_type": "markdown",
   "metadata": {},
   "source": [
    "### Preparing training\n",
    "\n",
    "The following hyperparameters are given. Next, we can assemble all the function previously defined to implement a training loop. We will train the classifier on **one epoch**, meaning that the model will see each training example once. "
   ]
  },
  {
   "cell_type": "code",
   "execution_count": 14,
   "metadata": {},
   "outputs": [],
   "source": [
    "# Optimization\n",
    "eta = 0.01\n",
    "regularizer = 'L2'\n",
    "weight_decay = 0.0001\n",
    "\n",
    "# Training\n",
    "log_interval = 5000"
   ]
  },
  {
   "cell_type": "markdown",
   "metadata": {},
   "source": [
    "<div class='alert alert-block alert-info'>\n",
    "            Code:</div>"
   ]
  },
  {
   "cell_type": "code",
   "execution_count": 15,
   "metadata": {},
   "outputs": [
    {
     "name": "stdout",
     "output_type": "stream",
     "text": [
      "Iteration 0 - Train accuracy: 0.093 - Test accuracy: 0.096 - Learning rate: 0.01\n",
      "Iteration 5000 - Train accuracy: 0.795 - Test accuracy: 0.799 - Learning rate: 0.01\n",
      "Iteration 10000 - Train accuracy: 0.840 - Test accuracy: 0.846 - Learning rate: 0.01\n",
      "Iteration 15000 - Train accuracy: 0.845 - Test accuracy: 0.851 - Learning rate: 0.01\n",
      "Iteration 20000 - Train accuracy: 0.855 - Test accuracy: 0.856 - Learning rate: 0.01\n",
      "Iteration 25000 - Train accuracy: 0.864 - Test accuracy: 0.870 - Learning rate: 0.01\n",
      "Iteration 30000 - Train accuracy: 0.856 - Test accuracy: 0.859 - Learning rate: 0.01\n",
      "Iteration 35000 - Train accuracy: 0.857 - Test accuracy: 0.855 - Learning rate: 0.01\n",
      "Iteration 40000 - Train accuracy: 0.878 - Test accuracy: 0.878 - Learning rate: 0.01\n",
      "Iteration 45000 - Train accuracy: 0.873 - Test accuracy: 0.872 - Learning rate: 0.01\n",
      "Iteration 50000 - Train accuracy: 0.867 - Test accuracy: 0.874 - Learning rate: 0.01\n",
      "Iteration 55000 - Train accuracy: 0.873 - Test accuracy: 0.870 - Learning rate: 0.01\n",
      "Final result - Train accuracy: 0.873 - Test accuracy: 0.870 - Learning rate: 0.01\n"
     ]
    }
   ],
   "source": [
    "# Data structures for plotting\n",
    "g_train_acc = []\n",
    "g_valid_acc = []\n",
    "\n",
    "n_training = train_images.shape[0]\n",
    "\n",
    "#######################\n",
    "### Learning process ##\n",
    "#######################\n",
    "for j in range(n_training):\n",
    "    # Getting the example\n",
    "    X, y = train_images[j], train_labels[j]\n",
    "\n",
    "    # Forward propagation\n",
    "    z = forward(W, b, X)\n",
    "\n",
    "    # Compute the softmax\n",
    "    out = softmax(z)\n",
    "\n",
    "    # Compute the gradient at the top layer\n",
    "    derror = out - y  # This is o - y\n",
    "\n",
    "    # Update the parameters\n",
    "    W, b = update(eta, W, b, derror, X, regularizer, weight_decay)\n",
    "\n",
    "    if j % log_interval == 0:\n",
    "        # Every log_interval examples, look at the training accuracy\n",
    "        train_accuracy = computeAcc(W, b, train_images, train_labels)\n",
    "\n",
    "        # And the testing accuracy\n",
    "        test_accuracy = computeAcc(W, b, test_images, test_labels)\n",
    "\n",
    "        g_train_acc.append(train_accuracy)\n",
    "        g_valid_acc.append(test_accuracy)\n",
    "        # result_line = str(int(j)) + \" \" + str(train_accuracy) + \\\n",
    "        #     \" \" + str(test_accuracy) + \" \" + str(eta)\n",
    "        result_line = f'Iteration {j} - Train accuracy: {train_accuracy:.3f} - Test accuracy: {test_accuracy:.3f} - Learning rate: {eta}'\n",
    "        print(result_line)\n",
    "\n",
    "g_train_acc.append(train_accuracy)\n",
    "g_valid_acc.append(test_accuracy)\n",
    "# result_line = \"Final result:\" + \" \" + \\\n",
    "#     str(train_accuracy) + \" \" + str(test_accuracy) + \" \" + str(eta)\n",
    "result_line = f'Final result - Train accuracy: {train_accuracy:.3f} - Test accuracy: {test_accuracy:.3f} - Learning rate: {eta}'\n",
    "print(result_line)"
   ]
  },
  {
   "cell_type": "markdown",
   "metadata": {},
   "source": [
    "What can you say about the performance of this simple linear classifier ?\n",
    "<div class='alert alert-block alert-warning'>\n",
    "            Answer:</div>\n",
    "\n",
    "We observe that we reach a good performance very quickly, in only 5000 iterations, and that learning seems to slow down significantly around 3500 iterations. The overall accuracy is good, both in the train and test dataset, showing that there doesn't seem to be overfitting and we're achieving a good bias-variance balance.\n",
    "\n",
    "For such a simple classifier that we can train very quickly, the performance is good. "
   ]
  },
  {
   "cell_type": "markdown",
   "metadata": {},
   "source": [
    "# Second part: Autoencoder with Keras"
   ]
  },
  {
   "cell_type": "markdown",
   "metadata": {},
   "source": [
    "## Autoencoder and PCA\n",
    "\n",
    "First, we will try to connect the representation produced by Principal Component Analysis with what is learnt by a simple, linear, autoencoder. We will use the ```scikit-learn``` implementation of the ```PCA``` to obtain the two first components (hint: use the attribute ```.components_```), and visualize them:\n",
    "<div class='alert alert-block alert-info'>\n",
    "            Code:</div>"
   ]
  },
  {
   "cell_type": "code",
   "execution_count": 16,
   "metadata": {},
   "outputs": [
    {
     "data": {
      "image/png": "[encoded data removed]",
      "text/plain": [
       "<Figure size 640x480 with 2 Axes>"
      ]
     },
     "metadata": {},
     "output_type": "display_data"
    }
   ],
   "source": [
    "from sklearn.decomposition import PCA\n",
    "\n",
    "# Let's find the first 2 PCA components\n",
    "num_components = 2\n",
    "pca = PCA(n_components=num_components).fit(train_images)\n",
    "\n",
    "# Reshape so they resemble images and we can print them\n",
    "eigen_mnist = pca.components_.reshape(num_components, img_rows, img_cols)\n",
    "\n",
    "# Show the reshaped principal components\n",
    "f, ax = plt.subplots(1, 2)\n",
    "ax[0].imshow(eigen_mnist[0], cmap='gray')\n",
    "ax[0].set_xlabel('First Principal Component')\n",
    "ax[1].imshow(eigen_mnist[1], cmap='gray')\n",
    "ax[1].set_xlabel('Second Principal Component')\n",
    "plt.show()"
   ]
  },
  {
   "cell_type": "code",
   "execution_count": 17,
   "metadata": {},
   "outputs": [
    {
     "name": "stdout",
     "output_type": "stream",
     "text": [
      "Explained variance by the first 2 components: [53.901375 39.411983]\n",
      "Ratio of explained variance by the first 2 components: [0.0970476  0.07095995]\n",
      "Total ratio of explained variance by the first 2 components: 0.16800755262374878\n"
     ]
    }
   ],
   "source": [
    "# Print the variance explained by those components\n",
    "print(f'Explained variance by the first {num_components} components: {pca.explained_variance_}')\n",
    "\n",
    "# Print the ratio of explained variance\n",
    "print(f'Ratio of explained variance by the first {num_components} components: {pca.explained_variance_ratio_}')\n",
    "print(f'Total ratio of explained variance by the first {num_components} components: {np.sum(pca.explained_variance_ratio_)}')"
   ]
  },
  {
   "cell_type": "markdown",
   "metadata": {},
   "source": [
    "Comment on the visualization in relation to the variance explained by only keeping the two principal components:\n",
    "<div class='alert alert-block alert-warning'>\n",
    "            Answer:</div>\n",
    "\n",
    "First, we can observe that only keeping two components makes it so we're not really explaining much of the variance of the data (only 17% approximately). Still, it's impressive that a reduction from 784 dimensions to only 2 manages to capture some of the structure of the data. Visually, we observe the first PCA component seems to represent a zero while the second seems to represent a nine. Intuitively, this seems to make sense, since we could represent digits by linearly combining these two."
   ]
  },
  {
   "cell_type": "markdown",
   "metadata": {},
   "source": [
    "### Implementing the Autoencoder with Keras"
   ]
  },
  {
   "cell_type": "code",
   "execution_count": 18,
   "metadata": {},
   "outputs": [],
   "source": [
    "from tensorflow.keras.models import Model\n",
    "from tensorflow.keras.layers import Input, Dense\n",
    "from tensorflow.keras.optimizers import SGD"
   ]
  },
  {
   "cell_type": "markdown",
   "metadata": {},
   "source": [
    "Now, we will use Keras to implement the autoencoder. You can take a look at this [cheatsheet](https://s3.amazonaws.com/assets.datacamp.com/blog_assets/Keras_Cheat_Sheet_Python.pdf) for some basic commands to use keras.\n",
    "\n",
    "In this first case, we implement a **simple linear autoencoder**. Build it in order to have the same capacity as the PCA decomposition (2 hidden dimensions !) we made just above. \n",
    "<div class='alert alert-block alert-info'>\n",
    "            Code:</div>"
   ]
  },
  {
   "cell_type": "code",
   "execution_count": 19,
   "metadata": {},
   "outputs": [
    {
     "name": "stdout",
     "output_type": "stream",
     "text": [
      "WARNING:tensorflow:From C:\\Users\\carlos\\AppData\\Local\\Packages\\PythonSoftwareFoundation.Python.3.9_qbz5n2kfra8p0\\LocalCache\\local-packages\\Python39\\site-packages\\keras\\src\\backend.py:1398: The name tf.executing_eagerly_outside_functions is deprecated. Please use tf.compat.v1.executing_eagerly_outside_functions instead.\n",
      "\n",
      "Model: \"ae_model\"\n",
      "_________________________________________________________________\n",
      " Layer (type)                Output Shape              Param #   \n",
      "=================================================================\n",
      " input (InputLayer)          [(None, 784)]             0         \n",
      "                                                                 \n",
      " encoded (Dense)             (None, 2)                 1570      \n",
      "                                                                 \n",
      " output (Dense)              (None, 784)               2352      \n",
      "                                                                 \n",
      "=================================================================\n",
      "Total params: 3922 (15.32 KB)\n",
      "Trainable params: 3922 (15.32 KB)\n",
      "Non-trainable params: 0 (0.00 Byte)\n",
      "_________________________________________________________________\n"
     ]
    }
   ],
   "source": [
    "# Input layer\n",
    "input_layer = Input(shape=(img_rows*img_cols,), name='input')\n",
    "\n",
    "# Encoding layer\n",
    "latent_view = Dense(num_components, name='encoded')(input_layer)\n",
    "\n",
    "# Decoding layer\n",
    "output_layer = Dense(img_rows*img_cols, name='output')(latent_view)\n",
    "\n",
    "ae_model = Model(input_layer, output_layer, name='ae_model')\n",
    "\n",
    "ae_model.summary()"
   ]
  },
  {
   "cell_type": "markdown",
   "metadata": {},
   "source": [
    "What loss shoud we use ? Choose the usual one and import it directly from Keras. You can use a simple ```SGD``` optimizer, and then compile the model; finally, train it to rebuild images from the original examples. \n",
    "<div class='alert alert-block alert-info'>\n",
    "            Code:</div>"
   ]
  },
  {
   "cell_type": "code",
   "execution_count": 20,
   "metadata": {},
   "outputs": [
    {
     "name": "stdout",
     "output_type": "stream",
     "text": [
      "Epoch 1/10\n",
      "WARNING:tensorflow:From C:\\Users\\carlos\\AppData\\Local\\Packages\\PythonSoftwareFoundation.Python.3.9_qbz5n2kfra8p0\\LocalCache\\local-packages\\Python39\\site-packages\\keras\\src\\utils\\tf_utils.py:492: The name tf.ragged.RaggedTensorValue is deprecated. Please use tf.compat.v1.ragged.RaggedTensorValue instead.\n",
      "\n",
      "469/469 [==============================] - 1s 2ms/step - loss: 0.7514 - val_loss: 0.6741\n",
      "Epoch 2/10\n",
      "469/469 [==============================] - 1s 2ms/step - loss: 0.6557 - val_loss: 0.6394\n",
      "Epoch 3/10\n",
      "469/469 [==============================] - 1s 2ms/step - loss: 0.6364 - val_loss: 0.6311\n",
      "Epoch 4/10\n",
      "469/469 [==============================] - 1s 2ms/step - loss: 0.6306 - val_loss: 0.6243\n",
      "Epoch 5/10\n",
      "469/469 [==============================] - 1s 2ms/step - loss: 0.6242 - val_loss: 0.6191\n",
      "Epoch 6/10\n",
      "469/469 [==============================] - 1s 2ms/step - loss: 0.6196 - val_loss: 0.6165\n",
      "Epoch 7/10\n",
      "469/469 [==============================] - 1s 2ms/step - loss: 0.6176 - val_loss: 0.6158\n",
      "Epoch 8/10\n",
      "469/469 [==============================] - 1s 2ms/step - loss: 0.6167 - val_loss: 0.6155\n",
      "Epoch 9/10\n",
      "469/469 [==============================] - 1s 2ms/step - loss: 0.6163 - val_loss: 0.6152\n",
      "Epoch 10/10\n",
      "469/469 [==============================] - 1s 2ms/step - loss: 0.6160 - val_loss: 0.6150\n"
     ]
    }
   ],
   "source": [
    "from tensorflow.keras.losses import MeanSquaredError\n",
    "\n",
    "loss = MeanSquaredError()\n",
    "optimizer = SGD(learning_rate=1e-1) \n",
    "\n",
    "ae_model.compile(optimizer=optimizer, loss=loss) \n",
    "\n",
    "batch_size = 128\n",
    "epochs = 10\n",
    "# No noise here - we want to train a simple auto-encoder and compare visually with PCA\n",
    "history = ae_model.fit(train_images,\n",
    "                       train_images,\n",
    "                       epochs=epochs,\n",
    "                       batch_size=batch_size,\n",
    "                       verbose=1,\n",
    "                       shuffle=True,\n",
    "                       validation_data=(test_images, test_images))"
   ]
  },
  {
   "cell_type": "markdown",
   "metadata": {},
   "source": [
    "Assuming that the name of your layer (obtained through the command ```model.summary()```) is ```'layer'```, here is the way to obtained the weights. Visualize the weights of the encoder and compare them to the two components obtained through the PCA."
   ]
  },
  {
   "cell_type": "code",
   "execution_count": 21,
   "metadata": {},
   "outputs": [],
   "source": [
    "weights_encoded, bias_encoded = ae_model.get_layer('encoded').get_weights()\n",
    "weights_output, bias_output = ae_model.get_layer('output').get_weights()"
   ]
  },
  {
   "cell_type": "markdown",
   "metadata": {},
   "source": [
    "<div class='alert alert-block alert-info'>\n",
    "            Code:</div>"
   ]
  },
  {
   "cell_type": "code",
   "execution_count": 22,
   "metadata": {},
   "outputs": [
    {
     "data": {
      "image/png": "[encoded data removed]",
      "text/plain": [
       "<Figure size 1000x1000 with 4 Axes>"
      ]
     },
     "metadata": {},
     "output_type": "display_data"
    }
   ],
   "source": [
    "# Show the two dimensions of the encoder, in a similar manner to the principal components\n",
    "# (after reshaping them as images !)\n",
    "\n",
    "# Reshape so they resemble images and we can print them\n",
    "eigen_ae_encoded = weights_encoded.T.reshape(num_components, img_rows, img_cols)\n",
    "eigen_ae_output = weights_output.T.reshape(num_components, img_rows, img_cols)\n",
    "\n",
    "# Show the reshaped principal components\n",
    "f, ax = plt.subplots(2, 2, figsize=(10, 10))\n",
    "ax[0, 0].imshow(eigen_ae_encoded[0], cmap='gray')\n",
    "ax[0, 0].set_xlabel('Weights of the encoded layer (1)')\n",
    "ax[0, 1].imshow(eigen_ae_encoded[1], cmap='gray')\n",
    "ax[0, 1].set_xlabel('Weights of the encoded layer (2)')\n",
    "ax[1, 0].imshow(eigen_ae_output[0], cmap='gray')\n",
    "ax[1, 0].set_xlabel('Weights of the Decoder (1)')\n",
    "ax[1, 1].imshow(eigen_ae_output[1], cmap='gray')\n",
    "ax[1, 1].set_xlabel('Weights of the Decoder (2)')\n",
    "plt.show()"
   ]
  },
  {
   "cell_type": "markdown",
   "metadata": {},
   "source": [
    "<div class=\"alert alert-block alert-success\">\n",
    "  Our comment:\n",
    "</div>\n",
    "\n",
    "Contrary to PCA, we can't notice much structure to these weights visually. Intuitively this might be due to the fact that the original digits should be somewhat reconstructable by performing a linear combination of the \"eigen-digits\" from PCA, but this is not true for the analogous \"eigen-digits\" recovered from the network."
   ]
  },
  {
   "cell_type": "markdown",
   "metadata": {},
   "source": [
    "Now, visualize the images rebuilt by the network !\n",
    "<div class='alert alert-block alert-info'>\n",
    "            Code:</div>"
   ]
  },
  {
   "cell_type": "code",
   "execution_count": 23,
   "metadata": {},
   "outputs": [
    {
     "data": {
      "image/png": "[encoded data removed]",
      "text/plain": [
       "<Figure size 640x480 with 5 Axes>"
      ]
     },
     "metadata": {},
     "output_type": "display_data"
    },
    {
     "name": "stdout",
     "output_type": "stream",
     "text": [
      "1/1 [==============================] - 0s 66ms/step\n"
     ]
    },
    {
     "data": {
      "image/png": "[encoded data removed]",
      "text/plain": [
       "<Figure size 640x480 with 5 Axes>"
      ]
     },
     "metadata": {},
     "output_type": "display_data"
    }
   ],
   "source": [
    "# Select a few images at random: look from n\n",
    "n = np.random.randint(0, len(test_images)-5)\n",
    "\n",
    "#  Plot a few images from n\n",
    "f, ax = plt.subplots(1, 5)\n",
    "for i, a in enumerate(range(n, n+5)):\n",
    "    ax[i].imshow(test_images[a].reshape(img_rows, img_cols), cmap='gray')\n",
    "    ax[i].axis('off')\n",
    "plt.show()\n",
    "\n",
    "# Get the prediction from the model\n",
    "decoded_imgs = ae_model.predict(test_images[n:n+5])\n",
    "\n",
    "# ... and plot them\n",
    "f, ax = plt.subplots(1, 5)\n",
    "for i, a in enumerate(range(n, n+5)):\n",
    "    ax[i].imshow(decoded_imgs[i].reshape(img_rows, img_cols), cmap='gray')\n",
    "    ax[i].axis('off')\n",
    "plt.show()"
   ]
  },
  {
   "cell_type": "markdown",
   "metadata": {},
   "source": [
    "<div class=\"alert alert-block alert-success\">\n",
    "  Our comment:\n",
    "</div>\n",
    "\n",
    "It seems that the bottleneck of the encoder is too small and we can't reconstruct the digits after encoding them. Thus, we lost too much information when encoding and we need to make the encoded layer larger and/or make the encoding more gradual by adding more layers.  Our previous analysis using PCA suggested this could happen, since it showed that two dimensions is far too little to represent all the variance of the dataset."
   ]
  },
  {
   "cell_type": "markdown",
   "metadata": {},
   "source": [
    "Do the same ( = build a new model) with a latent dimension that is largely higher than 2. Compare the visualizations and the images that are rebuilt. \n",
    "<div class='alert alert-block alert-info'>\n",
    "            Code:</div>"
   ]
  },
  {
   "cell_type": "code",
   "execution_count": 24,
   "metadata": {},
   "outputs": [
    {
     "name": "stdout",
     "output_type": "stream",
     "text": [
      "Model: \"ae_model_2\"\n",
      "_________________________________________________________________\n",
      " Layer (type)                Output Shape              Param #   \n",
      "=================================================================\n",
      " input (InputLayer)          [(None, 784)]             0         \n",
      "                                                                 \n",
      " encoded (Dense)             (None, 196)               153860    \n",
      "                                                                 \n",
      " output (Dense)              (None, 784)               154448    \n",
      "                                                                 \n",
      "=================================================================\n",
      "Total params: 308308 (1.18 MB)\n",
      "Trainable params: 308308 (1.18 MB)\n",
      "Non-trainable params: 0 (0.00 Byte)\n",
      "_________________________________________________________________\n"
     ]
    }
   ],
   "source": [
    "num_components = 196\n",
    "\n",
    "# Input layer\n",
    "input_layer = Input(shape=(img_rows*img_cols,), name='input')\n",
    "\n",
    "# Encoding layer\n",
    "latent_view = Dense(num_components, name='encoded')(input_layer)\n",
    "\n",
    "# Decoding layer\n",
    "output_layer = Dense(img_rows*img_cols, name='output')(latent_view)\n",
    "\n",
    "ae_model_2 = Model(input_layer, output_layer, name='ae_model_2')\n",
    "\n",
    "ae_model_2.summary()"
   ]
  },
  {
   "cell_type": "code",
   "execution_count": 25,
   "metadata": {},
   "outputs": [
    {
     "name": "stdout",
     "output_type": "stream",
     "text": [
      "Epoch 1/50\n",
      "469/469 [==============================] - 2s 3ms/step - loss: 0.5889 - val_loss: 0.3751\n",
      "Epoch 2/50\n",
      "469/469 [==============================] - 1s 3ms/step - loss: 0.3181 - val_loss: 0.2672\n",
      "Epoch 3/50\n",
      "469/469 [==============================] - 1s 3ms/step - loss: 0.2432 - val_loss: 0.2149\n",
      "Epoch 4/50\n",
      "469/469 [==============================] - 1s 3ms/step - loss: 0.2021 - val_loss: 0.1829\n",
      "Epoch 5/50\n",
      "469/469 [==============================] - 1s 3ms/step - loss: 0.1755 - val_loss: 0.1613\n",
      "Epoch 6/50\n",
      "469/469 [==============================] - 1s 3ms/step - loss: 0.1569 - val_loss: 0.1457\n",
      "Epoch 7/50\n",
      "469/469 [==============================] - 1s 3ms/step - loss: 0.1430 - val_loss: 0.1338\n",
      "Epoch 8/50\n",
      "469/469 [==============================] - 1s 3ms/step - loss: 0.1321 - val_loss: 0.1243\n",
      "Epoch 9/50\n",
      "469/469 [==============================] - 1s 3ms/step - loss: 0.1234 - val_loss: 0.1165\n",
      "Epoch 10/50\n",
      "469/469 [==============================] - 1s 3ms/step - loss: 0.1160 - val_loss: 0.1100\n",
      "Epoch 11/50\n",
      "469/469 [==============================] - 1s 3ms/step - loss: 0.1098 - val_loss: 0.1044\n",
      "Epoch 12/50\n",
      "453/469 [===========================>..] - ETA: 0s - loss: 0.1046"
     ]
    },
    {
     "name": "stdout",
     "output_type": "stream",
     "text": [
      "469/469 [==============================] - 1s 3ms/step - loss: 0.1045 - val_loss: 0.0995\n",
      "Epoch 13/50\n",
      "469/469 [==============================] - 1s 3ms/step - loss: 0.0998 - val_loss: 0.0953\n",
      "Epoch 14/50\n",
      "469/469 [==============================] - 1s 3ms/step - loss: 0.0957 - val_loss: 0.0915\n",
      "Epoch 15/50\n",
      "469/469 [==============================] - 1s 3ms/step - loss: 0.0920 - val_loss: 0.0881\n",
      "Epoch 16/50\n",
      "469/469 [==============================] - 1s 3ms/step - loss: 0.0888 - val_loss: 0.0851\n",
      "Epoch 17/50\n",
      "469/469 [==============================] - 1s 3ms/step - loss: 0.0858 - val_loss: 0.0824\n",
      "Epoch 18/50\n",
      "469/469 [==============================] - 1s 3ms/step - loss: 0.0831 - val_loss: 0.0799\n",
      "Epoch 19/50\n",
      "469/469 [==============================] - 1s 3ms/step - loss: 0.0807 - val_loss: 0.0776\n",
      "Epoch 20/50\n",
      "469/469 [==============================] - 1s 3ms/step - loss: 0.0784 - val_loss: 0.0755\n",
      "Epoch 21/50\n",
      "469/469 [==============================] - 1s 3ms/step - loss: 0.0763 - val_loss: 0.0736\n",
      "Epoch 22/50\n",
      "469/469 [==============================] - 1s 3ms/step - loss: 0.0744 - val_loss: 0.0718\n",
      "Epoch 23/50\n",
      "469/469 [==============================] - 1s 3ms/step - loss: 0.0727 - val_loss: 0.0701\n",
      "Epoch 24/50\n",
      "469/469 [==============================] - 1s 3ms/step - loss: 0.0710 - val_loss: 0.0686\n",
      "Epoch 25/50\n",
      "469/469 [==============================] - 1s 3ms/step - loss: 0.0695 - val_loss: 0.0671\n",
      "Epoch 26/50\n",
      "469/469 [==============================] - 1s 3ms/step - loss: 0.0680 - val_loss: 0.0658\n",
      "Epoch 27/50\n",
      "469/469 [==============================] - 1s 3ms/step - loss: 0.0667 - val_loss: 0.0645\n",
      "Epoch 28/50\n",
      "469/469 [==============================] - 1s 3ms/step - loss: 0.0654 - val_loss: 0.0633\n",
      "Epoch 29/50\n",
      "469/469 [==============================] - 2s 3ms/step - loss: 0.0642 - val_loss: 0.0622\n",
      "Epoch 30/50\n",
      "469/469 [==============================] - 1s 3ms/step - loss: 0.0631 - val_loss: 0.0611\n",
      "Epoch 31/50\n",
      "469/469 [==============================] - 1s 3ms/step - loss: 0.0620 - val_loss: 0.0601\n",
      "Epoch 32/50\n",
      "469/469 [==============================] - 1s 3ms/step - loss: 0.0610 - val_loss: 0.0592\n",
      "Epoch 33/50\n",
      "469/469 [==============================] - 1s 3ms/step - loss: 0.0600 - val_loss: 0.0582\n",
      "Epoch 34/50\n",
      "469/469 [==============================] - 1s 3ms/step - loss: 0.0591 - val_loss: 0.0574\n",
      "Epoch 35/50\n",
      "469/469 [==============================] - 1s 3ms/step - loss: 0.0582 - val_loss: 0.0566\n",
      "Epoch 36/50\n",
      "469/469 [==============================] - 1s 3ms/step - loss: 0.0574 - val_loss: 0.0558\n",
      "Epoch 37/50\n",
      "469/469 [==============================] - 1s 3ms/step - loss: 0.0566 - val_loss: 0.0550\n",
      "Epoch 38/50\n",
      "469/469 [==============================] - 1s 3ms/step - loss: 0.0558 - val_loss: 0.0543\n",
      "Epoch 39/50\n",
      "469/469 [==============================] - 1s 3ms/step - loss: 0.0551 - val_loss: 0.0536\n",
      "Epoch 40/50\n",
      "469/469 [==============================] - 1s 3ms/step - loss: 0.0544 - val_loss: 0.0529\n",
      "Epoch 41/50\n",
      "469/469 [==============================] - 1s 3ms/step - loss: 0.0537 - val_loss: 0.0523\n",
      "Epoch 42/50\n",
      "469/469 [==============================] - 1s 3ms/step - loss: 0.0531 - val_loss: 0.0517\n",
      "Epoch 43/50\n",
      "469/469 [==============================] - 1s 3ms/step - loss: 0.0524 - val_loss: 0.0511\n",
      "Epoch 44/50\n",
      "469/469 [==============================] - 1s 3ms/step - loss: 0.0518 - val_loss: 0.0505\n",
      "Epoch 45/50\n",
      "469/469 [==============================] - 1s 3ms/step - loss: 0.0513 - val_loss: 0.0500\n",
      "Epoch 46/50\n",
      "469/469 [==============================] - 1s 3ms/step - loss: 0.0507 - val_loss: 0.0494\n",
      "Epoch 47/50\n",
      "469/469 [==============================] - 1s 3ms/step - loss: 0.0502 - val_loss: 0.0489\n",
      "Epoch 48/50\n",
      "469/469 [==============================] - 1s 3ms/step - loss: 0.0497 - val_loss: 0.0484\n",
      "Epoch 49/50\n",
      "469/469 [==============================] - 1s 3ms/step - loss: 0.0492 - val_loss: 0.0480\n",
      "Epoch 50/50\n",
      "469/469 [==============================] - 1s 3ms/step - loss: 0.0487 - val_loss: 0.0475\n"
     ]
    }
   ],
   "source": [
    "loss = MeanSquaredError()\n",
    "optimizer = SGD(learning_rate=1e-1) \n",
    "\n",
    "ae_model_2.compile(optimizer=optimizer, loss=loss) \n",
    "\n",
    "batch_size = 128\n",
    "epochs = 50\n",
    "# No noise here - we want to train a simple auto-encoder and compare visually with PCA\n",
    "history = ae_model_2.fit(train_images,\n",
    "                       train_images,\n",
    "                       epochs=epochs,\n",
    "                       batch_size=batch_size,\n",
    "                       verbose=1,\n",
    "                       shuffle=True,\n",
    "                       validation_data=(test_images, test_images))"
   ]
  },
  {
   "cell_type": "code",
   "execution_count": 26,
   "metadata": {},
   "outputs": [
    {
     "data": {
      "image/png": "[encoded data removed]",
      "text/plain": [
       "<Figure size 640x480 with 5 Axes>"
      ]
     },
     "metadata": {},
     "output_type": "display_data"
    },
    {
     "name": "stdout",
     "output_type": "stream",
     "text": [
      "1/1 [==============================] - 0s 45ms/step\n"
     ]
    },
    {
     "data": {
      "image/png": "[encoded data removed]",
      "text/plain": [
       "<Figure size 640x480 with 5 Axes>"
      ]
     },
     "metadata": {},
     "output_type": "display_data"
    }
   ],
   "source": [
    "# Select a few images at random: look from n\n",
    "n = np.random.randint(0, len(test_images)-5)\n",
    "\n",
    "#  Plot a few images from n\n",
    "f, ax = plt.subplots(1, 5)\n",
    "for i, a in enumerate(range(n, n+5)):\n",
    "    ax[i].imshow(test_images[a].reshape(img_rows, img_cols), cmap='gray')\n",
    "    ax[i].axis('off')\n",
    "plt.show()\n",
    "\n",
    "# Get the prediction from the model\n",
    "decoded_imgs = ae_model_2.predict(test_images[n:n+5])\n",
    "\n",
    "# ... and plot them\n",
    "f, ax = plt.subplots(1, 5)\n",
    "for i, a in enumerate(range(n, n+5)):\n",
    "    ax[i].imshow(decoded_imgs[i].reshape(img_rows, img_cols), cmap='gray')\n",
    "    ax[i].axis('off')\n",
    "plt.show()"
   ]
  },
  {
   "cell_type": "markdown",
   "metadata": {},
   "source": [
    "<div class=\"alert alert-block alert-success\">\n",
    "  Our comment:\n",
    "</div>\n",
    "\n",
    "We observe that by making the encoded layer larger, we manage to not loose so much information in the encoding as before. "
   ]
  },
  {
   "cell_type": "markdown",
   "metadata": {},
   "source": [
    "### Bonus: De-noising Autoencoder\n",
    "\n",
    "Now, we can implement a **de-noising autoencoder**. The following function will transform an array of images by adding it random noise. Create a new autoencoder model, this time with **more layers** and **non-linear activations** (like the ReLU) and train it to rebuild the de-noised images. Display some testing images, with noise, and re-built."
   ]
  },
  {
   "cell_type": "code",
   "execution_count": 27,
   "metadata": {},
   "outputs": [],
   "source": [
    "def noise(array):\n",
    "    \"\"\"\n",
    "    Adds random noise to each image in the supplied array.\n",
    "    \"\"\"\n",
    "    noise_factor = 0.4\n",
    "    noisy_array = array + noise_factor * np.random.normal(\n",
    "        loc=0.0, scale=1.0, size=array.shape)\n",
    "    return noisy_array"
   ]
  },
  {
   "cell_type": "code",
   "execution_count": 28,
   "metadata": {},
   "outputs": [],
   "source": [
    "# Create a copy of the data with added noise\n",
    "noisy_train_images = noise(train_images)\n",
    "noisy_test_images = noise(test_images)"
   ]
  },
  {
   "cell_type": "markdown",
   "metadata": {},
   "source": [
    "<div class='alert alert-block alert-info'>\n",
    "            Code:</div>"
   ]
  },
  {
   "cell_type": "code",
   "execution_count": 29,
   "metadata": {},
   "outputs": [
    {
     "data": {
      "image/png": "[encoded data removed]",
      "text/plain": [
       "<Figure size 1000x500 with 10 Axes>"
      ]
     },
     "metadata": {},
     "output_type": "display_data"
    }
   ],
   "source": [
    "# Visualize some of the images with noise against the originals\n",
    "f, ax = plt.subplots(2, 5, figsize=(10, 5))\n",
    "for i in range(5):\n",
    "    ax[1, i].imshow(noisy_test_images[i].reshape(img_rows, img_cols), cmap='gray')\n",
    "    ax[1, i].axis('off')\n",
    "    ax[0, i].imshow(test_images[i].reshape(img_rows, img_cols), cmap='gray')\n",
    "    ax[0, i].axis('off')\n",
    "f.tight_layout()\n",
    "plt.show()"
   ]
  },
  {
   "cell_type": "code",
   "execution_count": 30,
   "metadata": {},
   "outputs": [
    {
     "name": "stdout",
     "output_type": "stream",
     "text": [
      "Model: \"ae_model_3\"\n",
      "_________________________________________________________________\n",
      " Layer (type)                Output Shape              Param #   \n",
      "=================================================================\n",
      " input (InputLayer)          [(None, 784)]             0         \n",
      "                                                                 \n",
      " encoded (Dense)             (None, 576)               452160    \n",
      "                                                                 \n",
      " dense (Dense)               (None, 400)               230800    \n",
      "                                                                 \n",
      " dense_1 (Dense)             (None, 256)               102656    \n",
      "                                                                 \n",
      " dense_3 (Dense)             (None, 576)               148032    \n",
      "                                                                 \n",
      " output (Dense)              (None, 784)               452368    \n",
      "                                                                 \n",
      "=================================================================\n",
      "Total params: 1386016 (5.29 MB)\n",
      "Trainable params: 1386016 (5.29 MB)\n",
      "Non-trainable params: 0 (0.00 Byte)\n",
      "_________________________________________________________________\n"
     ]
    }
   ],
   "source": [
    "# Build a new model with more layers and Relu activations\n",
    "\n",
    "# Input layer\n",
    "input_layer = Input(shape=(img_rows*img_cols,), name='input')\n",
    "\n",
    "# Encoding layer\n",
    "encoded = Dense(576, activation='relu', name='encoded')(input_layer)\n",
    "encoded = Dense(400, activation='relu')(encoded)\n",
    "encoded = Dense(256, activation='relu')(encoded)\n",
    "\n",
    "# Decoding layer\n",
    "decoded = Dense(400, activation='relu')(encoded)\n",
    "decoded = Dense(576, activation='relu')(encoded)\n",
    "output_layer = Dense(img_rows*img_cols, activation='sigmoid', name='output')(decoded)\n",
    "\n",
    "ae_model_3 = Model(input_layer, output_layer, name='ae_model_3')\n",
    "\n",
    "ae_model_3.summary()"
   ]
  },
  {
   "cell_type": "code",
   "execution_count": 31,
   "metadata": {},
   "outputs": [
    {
     "name": "stdout",
     "output_type": "stream",
     "text": [
      "Epoch 1/10\n",
      "469/469 [==============================] - 4s 8ms/step - loss: 0.7722 - val_loss: 0.6841\n",
      "Epoch 2/10\n",
      "381/469 [=======================>......] - ETA: 0s - loss: 0.6552"
     ]
    },
    {
     "name": "stdout",
     "output_type": "stream",
     "text": [
      "469/469 [==============================] - 4s 8ms/step - loss: 0.6509 - val_loss: 0.6306\n",
      "Epoch 3/10\n",
      "469/469 [==============================] - 3s 7ms/step - loss: 0.6149 - val_loss: 0.6063\n",
      "Epoch 4/10\n",
      "469/469 [==============================] - 3s 7ms/step - loss: 0.5941 - val_loss: 0.5887\n",
      "Epoch 5/10\n",
      "469/469 [==============================] - 3s 7ms/step - loss: 0.5797 - val_loss: 0.5767\n",
      "Epoch 6/10\n",
      "469/469 [==============================] - 3s 7ms/step - loss: 0.5690 - val_loss: 0.5671\n",
      "Epoch 7/10\n",
      "469/469 [==============================] - 3s 7ms/step - loss: 0.5602 - val_loss: 0.5587\n",
      "Epoch 8/10\n",
      "469/469 [==============================] - 3s 7ms/step - loss: 0.5518 - val_loss: 0.5532\n",
      "Epoch 9/10\n",
      "469/469 [==============================] - 3s 7ms/step - loss: 0.5461 - val_loss: 0.5467\n",
      "Epoch 10/10\n",
      "469/469 [==============================] - 3s 7ms/step - loss: 0.5408 - val_loss: 0.5426\n"
     ]
    }
   ],
   "source": [
    "# Compile it but here, use noised data as inputs !\n",
    "\n",
    "loss = MeanSquaredError()\n",
    "optimizer = SGD(learning_rate=0.3)\n",
    "\n",
    "ae_model_3.compile(optimizer=optimizer, loss=loss)\n",
    "\n",
    "batch_size = 128\n",
    "epochs = 10\n",
    "history = ae_model_3.fit(noisy_train_images,\n",
    "                         train_images,\n",
    "                         epochs=epochs,\n",
    "                         batch_size=batch_size,\n",
    "                         verbose=1,\n",
    "                         shuffle=True,\n",
    "                         validation_data=(noisy_test_images, test_images))"
   ]
  },
  {
   "cell_type": "code",
   "execution_count": 33,
   "metadata": {},
   "outputs": [
    {
     "data": {
      "image/png": "[encoded data removed]",
      "text/plain": [
       "<Figure size 640x480 with 5 Axes>"
      ]
     },
     "metadata": {},
     "output_type": "display_data"
    },
    {
     "name": "stdout",
     "output_type": "stream",
     "text": [
      "1/1 [==============================] - 0s 23ms/step\n"
     ]
    },
    {
     "data": {
      "image/png": "[encoded data removed]",
      "text/plain": [
       "<Figure size 640x480 with 5 Axes>"
      ]
     },
     "metadata": {},
     "output_type": "display_data"
    }
   ],
   "source": [
    "# Visualize the images rebuilt by the model !\n",
    "\n",
    "# Select a few images at random: look from n\n",
    "n = np.random.randint(0, len(test_images)-5)\n",
    "\n",
    "#  Plot a few images from n\n",
    "f, ax = plt.subplots(1, 5)\n",
    "for i, a in enumerate(range(n, n+5)):\n",
    "    ax[i].imshow(noisy_test_images[a].reshape(img_rows, img_cols), cmap='gray')\n",
    "    ax[i].axis('off')\n",
    "plt.show()\n",
    "\n",
    "# Get the prediction from the model\n",
    "decoded_imgs = ae_model_3.predict(noisy_test_images[n:n+5])\n",
    "\n",
    "# ... and plot them\n",
    "f, ax = plt.subplots(1, 5)\n",
    "for i, a in enumerate(range(n, n+5)):\n",
    "    ax[i].imshow(decoded_imgs[i].reshape(img_rows, img_cols), cmap='gray')\n",
    "    ax[i].axis('off')\n",
    "plt.show()"
   ]
  },
  {
   "cell_type": "markdown",
   "metadata": {},
   "source": [
    "<div class=\"alert alert-block alert-success\">\n",
    "  Our comment:\n",
    "</div>\n",
    "\n",
    "We obtain a reasonably well denoised output."
   ]
  },
  {
   "cell_type": "markdown",
   "metadata": {},
   "source": [
    "Assuming that we normalize the images to be in the 0-1 range, what other loss function could we use ?\n",
    "<div class='alert alert-block alert-warning'>\n",
    "            Answer:</div>\n",
    "\n",
    "We could use the Binary Cross-Entropy (BCE) loss function. BCE is particularly suitable for models that output probabilities, which aligns well with the nature of normalized image pixels falling between 0 and 1. BCE measures the distance between the probability distributions of the predicted and actual values, making it a good fit for tasks where the model outputs can be interpreted as probabilities, such as in image reconstruction tasks where the goal is to predict the probability of each pixel being activated.\n"
   ]
  }
 ],
 "metadata": {
  "accelerator": "GPU",
  "colab": {
   "collapsed_sections": [],
   "name": "TP4_1_empty.ipynb",
   "provenance": []
  },
  "kernelspec": {
   "display_name": "Python 3 (ipykernel)",
   "language": "python",
   "name": "python3"
  },
  "language_info": {
   "codemirror_mode": {
    "name": "ipython",
    "version": 3
   },
   "file_extension": ".py",
   "mimetype": "text/x-python",
   "name": "python",
   "nbconvert_exporter": "python",
   "pygments_lexer": "ipython3",
   "version": "3.9.13"
  }
 },
 "nbformat": 4,
 "nbformat_minor": 1
}
